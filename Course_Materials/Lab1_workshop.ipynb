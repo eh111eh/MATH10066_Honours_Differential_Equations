{
 "cells": [
  {
   "cell_type": "markdown",
   "metadata": {
    "deletable": false,
    "editable": false,
    "nbgrader": {
     "cell_type": "markdown",
     "checksum": "cedba7e2fc35481c4040d07a3e740fcf",
     "grade": false,
     "grade_id": "Lab1_title",
     "locked": true,
     "schema_version": 3,
     "solution": false,
     "task": false
    }
   },
   "source": [
    "# Lab 1: Python and differential equations\n",
    "\n",
    "In this notebook we will use Python to solve some differential equations, and to visualise the solutions. We will build on this work in later labs to do more sophisticated analyses, and to consider more complicated differential equations.\n",
    "\n",
    "For now, we will see how to use Python in 4 ways:\n",
    "\n",
    "|                Method of solution: | Symbolic | Numerical |\n",
    "|-----------------------------------:|----------|-----------|\n",
    "| First order ODEs                   |    §1    |     §3    |\n",
    "| Systems of first order ODEs        |    §2    |     §4    |\n",
    "\n",
    "### How to use this notebook\n",
    "The notebook is made up of various \"cells\" which either contain Python code or formatted text.\n",
    "\n",
    "To execute the code blocks, click on them and press <kbd>>| Run</kbd> on the toolbar above, or type <kbd>Shift</kbd>+<kbd>Enter</kbd>.\n",
    "\n",
    "[Further help on editing notebooks](https://nbviewer.jupyter.org/github/jupyter/notebook/blob/master/docs/source/examples/Notebook/Notebook%20Basics.ipynb#Overview-of-the-Notebook-UI)"
   ]
  },
  {
   "cell_type": "markdown",
   "metadata": {
    "deletable": false,
    "editable": false,
    "nbgrader": {
     "cell_type": "markdown",
     "checksum": "eb0a524976d8e99001ce45da1b3d7e89",
     "grade": false,
     "grade_id": "Lab1_S1_title",
     "locked": true,
     "schema_version": 3,
     "solution": false,
     "task": false
    }
   },
   "source": [
    "# 1. Symbolic solution of ODEs"
   ]
  },
  {
   "cell_type": "markdown",
   "metadata": {
    "deletable": false,
    "editable": false,
    "nbgrader": {
     "cell_type": "markdown",
     "checksum": "9d3aa11d7837eb19d950cc83446074e5",
     "grade": false,
     "grade_id": "Lab1_S1_01",
     "locked": true,
     "schema_version": 3,
     "solution": false,
     "task": false
    }
   },
   "source": [
    "We can use Python to find the exact symbolic solution to ODEs that we might otherwise solve by hand.\n",
    "\n",
    "To show this in action, we will solve a simple example from the textbook, of a first-order linear ODE. The following is Example 3 on p35 of Boyce and DiPrima (10th Edition).\n",
    "\n",
    "***\n",
    "### Example\n",
    "Find the general solution of the first-order differential equation $$\\frac{dy}{dt}-2y=4-t$$ and plot the graphs of several solutions.\n",
    "***"
   ]
  },
  {
   "cell_type": "markdown",
   "metadata": {
    "deletable": false,
    "editable": false,
    "nbgrader": {
     "cell_type": "markdown",
     "checksum": "e952672d2c5a053763e97c008047baf1",
     "grade": false,
     "grade_id": "Lab1_S1_02",
     "locked": true,
     "schema_version": 3,
     "solution": false,
     "task": false
    }
   },
   "source": [
    "We will use the [SymPy package](https://www.sympy.org/en/index.html) to do the calculations. The first step is to solve the equation -- we do that in the following block of code. Read the code carefully and see if you can make sense of it, then see below for a detailed walk through the code."
   ]
  },
  {
   "cell_type": "code",
   "execution_count": 1,
   "metadata": {},
   "outputs": [
    {
     "name": "stdout",
     "output_type": "stream",
     "text": [
      "The equation\n"
     ]
    },
    {
     "data": {
      "text/latex": [
       "$\\displaystyle - 2 y{\\left(t \\right)} + \\frac{d}{d t} y{\\left(t \\right)} = 4 - t$"
      ]
     },
     "metadata": {},
     "output_type": "display_data"
    },
    {
     "name": "stdout",
     "output_type": "stream",
     "text": [
      "has solutions\n"
     ]
    },
    {
     "data": {
      "text/latex": [
       "$\\displaystyle y{\\left(t \\right)} = C_{1} e^{2 t} + \\frac{t}{2} - \\frac{7}{4}$"
      ]
     },
     "metadata": {},
     "output_type": "display_data"
    },
    {
     "name": "stdout",
     "output_type": "stream",
     "text": [
      "or equivalently\n"
     ]
    },
    {
     "data": {
      "text/latex": [
       "$\\displaystyle y{\\left(t \\right)} = C_{1} e^{2 t} + \\frac{t}{2} - \\frac{7}{4}$"
      ]
     },
     "metadata": {},
     "output_type": "display_data"
    }
   ],
   "source": [
    "import sympy as sym\n",
    "sym.init_printing()\n",
    "from IPython.display import display_latex\n",
    "\n",
    "# Define the equation\n",
    "t = sym.symbols('t')\n",
    "y = sym.Function('y')\n",
    "eq1 = sym.Eq(y(t).diff(t)-2*y(t), 4-t)\n",
    "print(\"The equation\")\n",
    "display_latex(eq1)\n",
    "\n",
    "# Solve the equation\n",
    "eq1sol = sym.dsolve(eq1, y(t))\n",
    "print(\"has solutions\")\n",
    "display_latex(eq1sol)\n",
    "print(\"or equivalently\")\n",
    "display_latex(sym.simplify(eq1sol))"
   ]
  },
  {
   "cell_type": "markdown",
   "metadata": {
    "deletable": false,
    "editable": false,
    "nbgrader": {
     "cell_type": "markdown",
     "checksum": "116aca357f0a46c7d0adc35f52a9baff",
     "grade": false,
     "grade_id": "Lab1_S1_03",
     "locked": true,
     "schema_version": 3,
     "solution": false,
     "task": false
    }
   },
   "source": [
    "#### Detailed explanation\n",
    "\n",
    "First, we load up the package and adjust some settings so that the output prints nicely (e.g. like $x^2$ rather than `x ** 2`):"
   ]
  },
  {
   "cell_type": "code",
   "execution_count": 2,
   "metadata": {},
   "outputs": [],
   "source": [
    "import sympy as sym\n",
    "sym.init_printing()\n",
    "from IPython.display import display_latex"
   ]
  },
  {
   "cell_type": "markdown",
   "metadata": {
    "deletable": false,
    "editable": false,
    "nbgrader": {
     "cell_type": "markdown",
     "checksum": "dab2b0f1de3b6fc1906be44ba01d5723",
     "grade": false,
     "grade_id": "Lab1_S1_04",
     "locked": true,
     "schema_version": 3,
     "solution": false,
     "task": false
    }
   },
   "source": [
    "Now that we have imported the SymPy package, we can make use of its functions to do things. An example of that was `sym.init_printing()` which called the [init_printing](https://docs.sympy.org/latest/tutorial/printing.html) function to set up the way output is printed.\n",
    "\n",
    "Conveniently, SymPy has the function [dsolve](https://docs.sympy.org/latest/modules/solvers/ode.html) which can be used to solve ODEs -- but first, we need to set up the ODE as an object that SymPy can understand."
   ]
  },
  {
   "cell_type": "code",
   "execution_count": 3,
   "metadata": {},
   "outputs": [
    {
     "data": {
      "image/png": "[encoded data removed]",
      "text/latex": [
       "$\\displaystyle - 2 y{\\left(t \\right)} + \\frac{d}{d t} y{\\left(t \\right)} = 4 - t$"
      ],
      "text/plain": [
       "          d               \n",
       "-2⋅y(t) + ──(y(t)) = 4 - t\n",
       "          dt              "
      ]
     },
     "execution_count": 3,
     "metadata": {},
     "output_type": "execute_result"
    }
   ],
   "source": [
    "t = sym.symbols('t')\n",
    "y = sym.Function('y')\n",
    "eq1 = sym.Eq(y(t).diff(t)-2*y(t), 4-t)\n",
    "eq1"
   ]
  },
  {
   "cell_type": "markdown",
   "metadata": {
    "deletable": false,
    "editable": false,
    "nbgrader": {
     "cell_type": "markdown",
     "checksum": "97469c4d29dd53d58a77d902e5948bac",
     "grade": false,
     "grade_id": "Lab1_S1_05",
     "locked": true,
     "schema_version": 3,
     "solution": false,
     "task": false
    }
   },
   "source": [
    "There are some important things going on here:\n",
    "\n",
    "* to use variables like $x$, $y$ and $t$ with SymPy, you need to first define these as symbols (for variables like $t$) or Functions (like $y$ here, which is a function of $t$).\n",
    "\n",
    "* to write the equation, we use `sym.Eq(A,B)` to stand for $A=B$.\n",
    "\n",
    "* the derivative $\\frac{dy}{dt}$ is expressed as `y(t).diff(t)`, which you can think of as saying \"take `y(t)` and then `diff`erentiate with respect to `t`\". This is actually just a shorter way of using SymPy's `diff` function -- either way works:"
   ]
  },
  {
   "cell_type": "code",
   "execution_count": 4,
   "metadata": {},
   "outputs": [
    {
     "data": {
      "text/plain": [
       "True"
      ]
     },
     "execution_count": 4,
     "metadata": {},
     "output_type": "execute_result"
    }
   ],
   "source": [
    "y(t).diff(t) == sym.diff(y(t), t)"
   ]
  },
  {
   "cell_type": "markdown",
   "metadata": {
    "deletable": false,
    "editable": false,
    "nbgrader": {
     "cell_type": "markdown",
     "checksum": "d71b30cbba8c3adb35fba45690b668e4",
     "grade": false,
     "grade_id": "Lab1_S1_06",
     "locked": true,
     "schema_version": 3,
     "solution": false,
     "task": false
    }
   },
   "source": [
    "We're now ready to use `dsolve`:"
   ]
  },
  {
   "cell_type": "code",
   "execution_count": 5,
   "metadata": {},
   "outputs": [
    {
     "data": {
      "image/png": "[encoded data removed]",
      "text/latex": [
       "$\\displaystyle y{\\left(t \\right)} = C_{1} e^{2 t} + \\frac{t}{2} - \\frac{7}{4}$"
      ],
      "text/plain": [
       "           2⋅t   t   7\n",
       "y(t) = C₁⋅ℯ    + ─ - ─\n",
       "                 2   4"
      ]
     },
     "execution_count": 5,
     "metadata": {},
     "output_type": "execute_result"
    }
   ],
   "source": [
    "eq1sol = sym.dsolve(eq1, y(t))\n",
    "eq1sol"
   ]
  },
  {
   "cell_type": "markdown",
   "metadata": {
    "deletable": false,
    "editable": false,
    "nbgrader": {
     "cell_type": "markdown",
     "checksum": "b1bb7a7bf6c8cda1834d055e9baaea5e",
     "grade": false,
     "grade_id": "Lab1_S1_07",
     "locked": true,
     "schema_version": 3,
     "solution": false,
     "task": false
    }
   },
   "source": [
    "This does not quite look like the solution shown in Boyce & DiPrima, but that's only because the solution has been factorised in a strange way. We can use SymPy's [simplify](https://docs.sympy.org/latest/tutorial/simplification.html) function to sort this out:"
   ]
  },
  {
   "cell_type": "code",
   "execution_count": 6,
   "metadata": {},
   "outputs": [
    {
     "data": {
      "image/png": "[encoded data removed]",
      "text/latex": [
       "$\\displaystyle y{\\left(t \\right)} = C_{1} e^{2 t} + \\frac{t}{2} - \\frac{7}{4}$"
      ],
      "text/plain": [
       "           2⋅t   t   7\n",
       "y(t) = C₁⋅ℯ    + ─ - ─\n",
       "                 2   4"
      ]
     },
     "execution_count": 6,
     "metadata": {},
     "output_type": "execute_result"
    }
   ],
   "source": [
    "sym.simplify(eq1sol)"
   ]
  },
  {
   "cell_type": "markdown",
   "metadata": {
    "deletable": false,
    "editable": false,
    "nbgrader": {
     "cell_type": "markdown",
     "checksum": "fc2e7eeb004a127b9c80e0380bf6ec39",
     "grade": false,
     "grade_id": "Lab1_S1_08",
     "locked": true,
     "schema_version": 3,
     "solution": false,
     "task": false
    }
   },
   "source": [
    "This looks more like it.\n",
    "\n",
    "### Plotting solutions\n",
    "\n",
    "Now, we plot one possible solution, with the initial condition $y(0)=0$:"
   ]
  },
  {
   "cell_type": "code",
   "execution_count": 7,
   "metadata": {},
   "outputs": [
    {
     "data": {
      "text/latex": [
       "$\\displaystyle y{\\left(t \\right)} = \\frac{t}{2} + \\frac{7 e^{2 t}}{4} - \\frac{7}{4}$"
      ]
     },
     "metadata": {},
     "output_type": "display_data"
    },
    {
     "data": {
      "image/png": "[encoded data removed]",
      "text/plain": [
       "<Figure size 640x480 with 1 Axes>"
      ]
     },
     "metadata": {},
     "output_type": "display_data"
    },
    {
     "data": {
      "text/plain": [
       "<sympy.plotting.plot.Plot at 0x7f7c891eceb0>"
      ]
     },
     "execution_count": 7,
     "metadata": {},
     "output_type": "execute_result"
    }
   ],
   "source": [
    "import sympy.plotting as sym_plot\n",
    "eq1sol0 = sym.dsolve(eq1, y(t), ics={y(0):0})\n",
    "display_latex(sym.simplify(eq1sol0))\n",
    "sym_plot.plot(eq1sol0.rhs, (t,0,2), xlabel = 't', ylabel = 'y')"
   ]
  },
  {
   "cell_type": "markdown",
   "metadata": {
    "deletable": false,
    "editable": false,
    "nbgrader": {
     "cell_type": "markdown",
     "checksum": "34612fbd22e02769b64b944af15440cd",
     "grade": false,
     "grade_id": "Lab1_S1_task1",
     "locked": true,
     "schema_version": 3,
     "solution": false,
     "task": false
    }
   },
   "source": [
    "<span class=\"label label-danger\">Task</span>\n",
    "Copy the plotting code into the box below, and modify it to produce a plot of the solution with $y(0)=-1$."
   ]
  },
  {
   "cell_type": "code",
   "execution_count": 17,
   "metadata": {
    "deletable": false,
    "nbgrader": {
     "cell_type": "code",
     "checksum": "94071630cb3758da59b7a80e7979cb2d",
     "grade": false,
     "grade_id": "Lab1_S1_task1_answer",
     "locked": false,
     "schema_version": 3,
     "solution": true,
     "task": false
    }
   },
   "outputs": [
    {
     "data": {
      "image/png": "[encoded data removed]",
      "text/plain": [
       "<Figure size 640x480 with 1 Axes>"
      ]
     },
     "metadata": {},
     "output_type": "display_data"
    },
    {
     "data": {
      "text/plain": [
       "<sympy.plotting.plot.Plot at 0x7f7c39024100>"
      ]
     },
     "execution_count": 17,
     "metadata": {},
     "output_type": "execute_result"
    }
   ],
   "source": [
    "eq1sol1 = sym.dsolve(eq1, y(t), ics={y(0):-1})\n",
    "\n",
    "sym_plot.plot(eq1sol0.rhs, eq1sol1.rhs, (t,0,2), xlabel = 't', ylabel = 'y', legend = True)\n",
    "#sym_plot.plot(eq1sol0.rhs, (t,0,2), xlabel = 't', ylabel = 'y', title = 'eq1sol0')\n",
    "#sym_plot.plot(eq1sol1.rhs, (t,0,2), xlabel = 't', ylabel = 'y', title = 'eq1sol1.rhs')\n",
    "\n",
    "#raise NotImplementedError()"
   ]
  },
  {
   "cell_type": "markdown",
   "metadata": {
    "deletable": false,
    "editable": false,
    "nbgrader": {
     "cell_type": "markdown",
     "checksum": "867dff860e36b27bbea75c1ae513fd03",
     "grade": false,
     "grade_id": "Lab1_S1_09",
     "locked": true,
     "schema_version": 3,
     "solution": false,
     "task": false
    }
   },
   "source": [
    "To plot several solutions, we need to pick different choices of initial condition."
   ]
  },
  {
   "cell_type": "code",
   "execution_count": 21,
   "metadata": {},
   "outputs": [
    {
     "data": {
      "image/png": "[encoded data removed]",
      "text/plain": [
       "<Figure size 640x480 with 1 Axes>"
      ]
     },
     "metadata": {},
     "output_type": "display_data"
    },
    {
     "data": {
      "image/png": "[encoded data removed]",
      "text/plain": [
       "<Figure size 640x480 with 1 Axes>"
      ]
     },
     "metadata": {},
     "output_type": "display_data"
    }
   ],
   "source": [
    "eq1sol1 = sym.dsolve(eq1, y(t), ics={y(0):-1})\n",
    "eq1sol2 = sym.dsolve(eq1, y(t), ics={y(0):-2})\n",
    "eq1sol3 = sym.dsolve(eq1, y(t), ics={y(0):-3})\n",
    "\n",
    "plot = sym_plot.plot(eq1sol0.rhs, eq1sol1.rhs, eq1sol2.rhs, eq1sol3.rhs, (t,0,1), xlabel = 't', ylabel = 'y', legend = True)\n",
    "plot[0].line_color='red'\n",
    "plot[1].line_color='green'\n",
    "plot[2].line_color='blue'\n",
    "plot[3].line_color='cyan'\n",
    "plot.show()"
   ]
  },
  {
   "attachments": {
    "image.png": {
     "image/png": "[encoded data removed]"
    }
   },
   "cell_type": "markdown",
   "metadata": {
    "deletable": false,
    "editable": false,
    "nbgrader": {
     "cell_type": "markdown",
     "checksum": "0fdfa2c7d93266ff7ace0d0d5125c0bb",
     "grade": false,
     "grade_id": "Lab1_S1_task2",
     "locked": true,
     "schema_version": 3,
     "solution": false,
     "task": false
    }
   },
   "source": [
    "<span class=\"label label-danger\">Task</span>\n",
    "\n",
    "**(a)** Change the plotting region to $0\\leq t\\leq1$ to get a better look at the behaviour near $t=0$.\n",
    "\n",
    "**(b)** Add the optional argument `legend = True` to the `plot` function to show which curves are being plotted.\n",
    "\n",
    "**(c)** (Challenge) See if you can find how to give each curve a different colour, something like this:\n",
    "\n",
    "![image.png](attachment:image.png)"
   ]
  },
  {
   "cell_type": "code",
   "execution_count": null,
   "metadata": {
    "deletable": false,
    "nbgrader": {
     "cell_type": "code",
     "checksum": "b292ecdc33d8c9ad3e9ac4370de6a7a7",
     "grade": false,
     "grade_id": "Lab1_S1_task2_A",
     "locked": false,
     "schema_version": 3,
     "solution": true,
     "task": false
    }
   },
   "outputs": [],
   "source": [
    "# Your code here for (a)\n",
    "\n",
    "# YOUR CODE HERE\n",
    "raise NotImplementedError()"
   ]
  },
  {
   "cell_type": "code",
   "execution_count": null,
   "metadata": {
    "deletable": false,
    "nbgrader": {
     "cell_type": "code",
     "checksum": "96d3afe1d8602c83b5e43300dda23247",
     "grade": false,
     "grade_id": "Lab1_S1_task2_B",
     "locked": false,
     "schema_version": 3,
     "solution": true,
     "task": false
    }
   },
   "outputs": [],
   "source": [
    "# Your code here for (b)\n",
    "\n",
    "# YOUR CODE HERE\n",
    "raise NotImplementedError()"
   ]
  },
  {
   "cell_type": "code",
   "execution_count": null,
   "metadata": {
    "deletable": false,
    "nbgrader": {
     "cell_type": "code",
     "checksum": "af20cc7462a0aea5cac97023a8f2befa",
     "grade": false,
     "grade_id": "Lab1_S1_task2_C",
     "locked": false,
     "schema_version": 3,
     "solution": true,
     "task": false
    }
   },
   "outputs": [],
   "source": [
    "# Your code here for (c)\n",
    "\n",
    "# YOUR CODE HERE\n",
    "raise NotImplementedError()"
   ]
  },
  {
   "cell_type": "markdown",
   "metadata": {
    "deletable": false,
    "editable": false,
    "nbgrader": {
     "cell_type": "markdown",
     "checksum": "8bae6904c335b8f5c314186db6d740f0",
     "grade": false,
     "grade_id": "Lab1_S1_E1",
     "locked": true,
     "schema_version": 3,
     "solution": false,
     "task": false
    }
   },
   "source": [
    "<div class=\"alert alert-info\">\n",
    "    <h3>Exercise 1.1</h3>\n",
    "    <p>Solve the ODEs in Q1 of the Refresher problems worksheet, and plot the solutions over sensible ranges.</p>\n",
    "\n",
    "<p><span class=\"label label-primary\">a</span> $y'=(3x^2-e^x)/(2y-4)$, $y(0)=1$,\n",
    "\n",
    "<p><span class=\"label label-primary\">b</span> $y'= 4(1+x)(1+y^2)$, $y(0)=0$,\n",
    "\n",
    "<p><span class=\"label label-primary\">c</span> $y'= y(1-y)$, $y(0)=1/2$.\n",
    "\n",
    "</div>\n",
    "\n",
    "_Hints: For (a) you will need to use the line `from sympy import exp` to make the `exp` function available, and for (b) you may find it helpful to set the `ylim` of the plot._"
   ]
  },
  {
   "cell_type": "code",
   "execution_count": null,
   "metadata": {},
   "outputs": [],
   "source": [
    "# Standard setup\n",
    "import sympy as sym\n",
    "sym.init_printing()\n",
    "from IPython.display import display_latex\n",
    "import sympy.plotting as sym_plot"
   ]
  },
  {
   "cell_type": "code",
   "execution_count": 68,
   "metadata": {
    "deletable": false,
    "nbgrader": {
     "cell_type": "code",
     "checksum": "43b21e84a3ebe5bb2ec2cabfc624b0d7",
     "grade": false,
     "grade_id": "Lab1_S1_E1_A",
     "locked": false,
     "schema_version": 3,
     "solution": true,
     "task": false
    }
   },
   "outputs": [
    {
     "name": "stdout",
     "output_type": "stream",
     "text": [
      "The equation\n"
     ]
    },
    {
     "data": {
      "text/latex": [
       "$\\displaystyle \\frac{d}{d x} y{\\left(x \\right)} = \\frac{3 x^{2} - e^{x}}{2 y{\\left(x \\right)} - 4}$"
      ]
     },
     "metadata": {},
     "output_type": "display_data"
    },
    {
     "name": "stdout",
     "output_type": "stream",
     "text": [
      "has solutions\n"
     ]
    },
    {
     "data": {
      "text/latex": [
       "$\\displaystyle \\left[ y{\\left(x \\right)} = 2 - \\sqrt{C_{1} + x^{3} - e^{x}}, \\  y{\\left(x \\right)} = \\sqrt{C_{1} + x^{3} - e^{x}} + 2\\right]$"
      ]
     },
     "metadata": {},
     "output_type": "display_data"
    },
    {
     "name": "stdout",
     "output_type": "stream",
     "text": [
      "or equivalently\n"
     ]
    },
    {
     "data": {
      "text/latex": [
       "$\\displaystyle y{\\left(x \\right)} = 2 - \\sqrt{C_{1} + x^{3} - e^{x}}$"
      ]
     },
     "metadata": {},
     "output_type": "display_data"
    },
    {
     "name": "stdout",
     "output_type": "stream",
     "text": [
      "Calculation done\n"
     ]
    },
    {
     "data": {
      "text/latex": [
       "$\\displaystyle y{\\left(x \\right)} = 2 - \\sqrt{x^{3} - e^{x} + 2}$"
      ]
     },
     "metadata": {},
     "output_type": "display_data"
    },
    {
     "data": {
      "image/png": "[encoded data removed]",
      "text/plain": [
       "<Figure size 640x480 with 1 Axes>"
      ]
     },
     "metadata": {},
     "output_type": "display_data"
    },
    {
     "data": {
      "text/plain": [
       "<sympy.plotting.plot.Plot at 0x7f7c34c04a90>"
      ]
     },
     "execution_count": 68,
     "metadata": {},
     "output_type": "execute_result"
    }
   ],
   "source": [
    "# Your code here for (a)\n",
    "# Note: use the variable name eq1a_sol for the solution to the system\n",
    "# ------------------- Calculation -------------------\n",
    "#eq1a_sol\n",
    "from sympy import exp\n",
    "\n",
    "x = sym.symbols('x')\n",
    "y = sym.Function('y')\n",
    "eq1a = sym.Eq(y(x).diff(x), (3*x**2 - exp(x))/(2*y(x)-4))\n",
    "print(\"The equation\")\n",
    "display_latex(eq1a)\n",
    "\n",
    "# Solve the equation\n",
    "eq1a_sol = sym.dsolve(eq1a, y(x))\n",
    "print(\"has solutions\")\n",
    "display_latex(eq1a_sol)\n",
    "print(\"or equivalently\")\n",
    "display_latex(sym.simplify(eq1a_sol[0]))\n",
    "\n",
    "print(\"Calculation done\")\n",
    "\n",
    "# ------------------- Plotting -------------------\n",
    "eq1a_sol = sym.dsolve(eq1a, y(x), ics={y(0):1})\n",
    "display_latex(sym.simplify(eq1a_sol))\n",
    "sym_plot.plot(eq1a_sol.rhs, (x,0,2), xlabel = 'x', ylabel = 'y', title = 'eq1a_sol')\n",
    "\n",
    "\n",
    "#raise NotImplementedError()"
   ]
  },
  {
   "cell_type": "code",
   "execution_count": 69,
   "metadata": {},
   "outputs": [
    {
     "name": "stdout",
     "output_type": "stream",
     "text": [
      "1\n"
     ]
    }
   ],
   "source": [
    "f = sym.Lambda(x,eq1a_sol.rhs)\n",
    "print(f(0))\n",
    "assert f(0) == 1"
   ]
  },
  {
   "cell_type": "code",
   "execution_count": 70,
   "metadata": {
    "deletable": false,
    "editable": false,
    "nbgrader": {
     "cell_type": "code",
     "checksum": "6b34ab871afc14a711ddb6dfc0d2e49c",
     "grade": true,
     "grade_id": "Lab1_S1_E1_A_test",
     "locked": true,
     "points": 0.5,
     "schema_version": 3,
     "solution": false,
     "task": false
    }
   },
   "outputs": [
    {
     "name": "stdout",
     "output_type": "stream",
     "text": [
      "Success: your solution satisfies the initial condition!\n"
     ]
    }
   ],
   "source": [
    "# Autograder tests\n",
    "\n",
    "f = sym.Lambda(x,eq1a_sol.rhs)\n",
    "assert f(0) == 1\n",
    "print(\"Success: your solution satisfies the initial condition!\")\n"
   ]
  },
  {
   "cell_type": "code",
   "execution_count": 74,
   "metadata": {
    "deletable": false,
    "nbgrader": {
     "cell_type": "code",
     "checksum": "7978a8ab7de991a21c0e191756291980",
     "grade": false,
     "grade_id": "Lab1_S1_E1_B",
     "locked": false,
     "schema_version": 3,
     "solution": true,
     "task": false
    }
   },
   "outputs": [
    {
     "name": "stdout",
     "output_type": "stream",
     "text": [
      "The equation\n"
     ]
    },
    {
     "data": {
      "text/latex": [
       "$\\displaystyle \\frac{d}{d x} y{\\left(x \\right)} = \\left(4 x + 4\\right) \\left(y^{2}{\\left(x \\right)} + 1\\right)$"
      ]
     },
     "metadata": {},
     "output_type": "display_data"
    },
    {
     "name": "stdout",
     "output_type": "stream",
     "text": [
      "has solutions\n"
     ]
    },
    {
     "data": {
      "text/latex": [
       "$\\displaystyle y{\\left(x \\right)} = \\tan{\\left(C_{1} + 2 x^{2} + 4 x \\right)}$"
      ]
     },
     "metadata": {},
     "output_type": "display_data"
    },
    {
     "name": "stdout",
     "output_type": "stream",
     "text": [
      "or equivalently\n"
     ]
    },
    {
     "data": {
      "text/latex": [
       "$\\displaystyle y{\\left(x \\right)} = \\tan{\\left(C_{1} + 2 x^{2} + 4 x \\right)}$"
      ]
     },
     "metadata": {},
     "output_type": "display_data"
    },
    {
     "name": "stdout",
     "output_type": "stream",
     "text": [
      "Calculation done\n"
     ]
    },
    {
     "data": {
      "text/latex": [
       "$\\displaystyle y{\\left(x \\right)} = \\tan{\\left(2 x \\left(x + 2\\right) \\right)}$"
      ]
     },
     "metadata": {},
     "output_type": "display_data"
    },
    {
     "data": {
      "image/png": "[encoded data removed]",
      "text/plain": [
       "<Figure size 640x480 with 1 Axes>"
      ]
     },
     "metadata": {},
     "output_type": "display_data"
    },
    {
     "data": {
      "text/plain": [
       "<sympy.plotting.plot.Plot at 0x7f7c37017970>"
      ]
     },
     "execution_count": 74,
     "metadata": {},
     "output_type": "execute_result"
    }
   ],
   "source": [
    "# Your code here for (b)\n",
    "# 𝑦′=4(1+𝑥)(1+𝑦2), 𝑦(0)=0\n",
    "# ------------------- Calculation -------------------\n",
    "x = sym.symbols('x')\n",
    "y = sym.Function('y')\n",
    "eq1b = sym.Eq(y(x).diff(x), 4*(1+x)*(1+y(x)**2))\n",
    "print(\"The equation\")\n",
    "display_latex(eq1b)\n",
    "\n",
    "# Solve the equation\n",
    "eq1b_sol = sym.dsolve(eq1b, y(x))\n",
    "print(\"has solutions\")\n",
    "display_latex(eq1b_sol)\n",
    "print(\"or equivalently\")\n",
    "display_latex(sym.simplify(eq1b_sol))\n",
    "\n",
    "print(\"Calculation done\") # debug line\n",
    "\n",
    "# ------------------- Plotting -------------------\n",
    "eq1b_sol = sym.dsolve(eq1b, y(x), ics={y(0):0})\n",
    "display_latex(sym.simplify(eq1b_sol))\n",
    "sym_plot.plot(eq1b_sol.rhs, (x,-1,1), xlabel = 'x', ylabel = 'y', ylim = (-1, 1), title = 'eq1b_sol')\n",
    "\n",
    "# YOUR CODE HERE\n",
    "#raise NotImplementedError()"
   ]
  },
  {
   "cell_type": "code",
   "execution_count": 75,
   "metadata": {
    "deletable": false,
    "editable": false,
    "nbgrader": {
     "cell_type": "code",
     "checksum": "a30905019be54bbe2b0f4468741f8aaf",
     "grade": true,
     "grade_id": "Lab1_S1_E1_B_test",
     "locked": true,
     "points": 0.5,
     "schema_version": 3,
     "solution": false,
     "task": false
    }
   },
   "outputs": [
    {
     "name": "stdout",
     "output_type": "stream",
     "text": [
      "Success: your solution satisfies the initial condition!\n"
     ]
    }
   ],
   "source": [
    "# Autograder test\n",
    "\n",
    "f = sym.Lambda(x,eq1b_sol.rhs)\n",
    "assert f(0) == 0\n",
    "print(\"Success: your solution satisfies the initial condition!\")\n"
   ]
  },
  {
   "cell_type": "code",
   "execution_count": 77,
   "metadata": {
    "deletable": false,
    "nbgrader": {
     "cell_type": "code",
     "checksum": "a8a4048237845360bb141ff86807839d",
     "grade": false,
     "grade_id": "Lab1_S1_E1_C",
     "locked": false,
     "schema_version": 3,
     "solution": true,
     "task": false
    }
   },
   "outputs": [
    {
     "name": "stdout",
     "output_type": "stream",
     "text": [
      "The equation\n"
     ]
    },
    {
     "data": {
      "text/latex": [
       "$\\displaystyle \\frac{d}{d x} y{\\left(x \\right)} = \\left(1 - y{\\left(x \\right)}\\right) y{\\left(x \\right)}$"
      ]
     },
     "metadata": {},
     "output_type": "display_data"
    },
    {
     "name": "stdout",
     "output_type": "stream",
     "text": [
      "has solutions\n"
     ]
    },
    {
     "data": {
      "text/latex": [
       "$\\displaystyle y{\\left(x \\right)} = \\frac{1}{C_{1} e^{- x} + 1}$"
      ]
     },
     "metadata": {},
     "output_type": "display_data"
    },
    {
     "name": "stdout",
     "output_type": "stream",
     "text": [
      "or equivalently\n"
     ]
    },
    {
     "data": {
      "text/latex": [
       "$\\displaystyle y{\\left(x \\right)} = \\frac{e^{x}}{C_{1} + e^{x}}$"
      ]
     },
     "metadata": {},
     "output_type": "display_data"
    },
    {
     "name": "stdout",
     "output_type": "stream",
     "text": [
      "Calculation done\n"
     ]
    },
    {
     "data": {
      "text/latex": [
       "$\\displaystyle y{\\left(x \\right)} = \\frac{e^{x}}{e^{x} + 1.0}$"
      ]
     },
     "metadata": {},
     "output_type": "display_data"
    },
    {
     "data": {
      "image/png": "[encoded data removed]",
      "text/plain": [
       "<Figure size 640x480 with 1 Axes>"
      ]
     },
     "metadata": {},
     "output_type": "display_data"
    },
    {
     "data": {
      "text/plain": [
       "<sympy.plotting.plot.Plot at 0x7f7c353138e0>"
      ]
     },
     "execution_count": 77,
     "metadata": {},
     "output_type": "execute_result"
    }
   ],
   "source": [
    "# Your code here for (c)\n",
    "# 𝑦′=𝑦(1−𝑦), 𝑦(0)=1/2\n",
    "# ------------------- Calculation -------------------\n",
    "x = sym.symbols('x')\n",
    "y = sym.Function('y')\n",
    "eq1c = sym.Eq(y(x).diff(x), y(x)*(1-y(x)))\n",
    "print(\"The equation\")\n",
    "display_latex(eq1c)\n",
    "\n",
    "# Solve the equation\n",
    "eq1c_sol = sym.dsolve(eq1c, y(x))\n",
    "print(\"has solutions\")\n",
    "display_latex(eq1c_sol)\n",
    "print(\"or equivalently\")\n",
    "display_latex(sym.simplify(eq1c_sol))\n",
    "\n",
    "print(\"Calculation done\") # debug line\n",
    "\n",
    "# ------------------- Plotting -------------------\n",
    "eq1c_sol = sym.dsolve(eq1c, y(x), ics={y(0):1/2})\n",
    "display_latex(sym.simplify(eq1c_sol))\n",
    "sym_plot.plot(eq1c_sol.rhs, (x,0,1), xlabel = 'x', ylabel = 'y', title = 'eq1c_sol')\n",
    "\n",
    "# YOUR CODE HERE\n",
    "#raise NotImplementedError()"
   ]
  },
  {
   "cell_type": "code",
   "execution_count": 78,
   "metadata": {
    "deletable": false,
    "editable": false,
    "nbgrader": {
     "cell_type": "code",
     "checksum": "701e9343e581911ed249ce6522ef50a4",
     "grade": true,
     "grade_id": "Lab1_S1_E1_C_test",
     "locked": true,
     "points": 0.5,
     "schema_version": 3,
     "solution": false,
     "task": false
    }
   },
   "outputs": [
    {
     "name": "stdout",
     "output_type": "stream",
     "text": [
      "Success: your solution satisfies the initial condition!\n"
     ]
    }
   ],
   "source": [
    "# Autograder test\n",
    "f = sym.Lambda(x,eq1c_sol.rhs)\n",
    "assert f(0) == 1/2\n",
    "print(\"Success: your solution satisfies the initial condition!\")\n"
   ]
  },
  {
   "cell_type": "markdown",
   "metadata": {
    "deletable": false,
    "editable": false,
    "nbgrader": {
     "cell_type": "markdown",
     "checksum": "aaa9755f43e1208803d20830fa555133",
     "grade": false,
     "grade_id": "Lab1_S2_title",
     "locked": true,
     "schema_version": 3,
     "solution": false,
     "task": false
    }
   },
   "source": [
    "# 2. Symbolic solution of systems\n",
    "\n",
    "\n"
   ]
  },
  {
   "cell_type": "markdown",
   "metadata": {
    "deletable": false,
    "editable": false,
    "nbgrader": {
     "cell_type": "markdown",
     "checksum": "5604a67727146d8761d5fef9ae3a7c30",
     "grade": false,
     "grade_id": "Lab1_S2_01",
     "locked": true,
     "schema_version": 3,
     "solution": false,
     "task": false
    }
   },
   "source": [
    "We would also like to be able to solve systems of equations, for instance $$\\mathbf{x}'=\\begin{pmatrix}1 & 1\\\\ 4 & 1\\end{pmatrix}\\mathbf{x},$$\n",
    "which appears as Example 2 in §7.5 of Boyce & DiPrima.\n",
    "\n",
    "SymPy can handle this with just a simple modification of the code we've been using so far, if we rewrite the matrix equation as two equations in $x_1(t)$ and $x_2(t)$, where $\\mathbf{x}(t)=\\begin{pmatrix}x_1(t) \\\\ x_2(t)\\end{pmatrix}$."
   ]
  },
  {
   "cell_type": "code",
   "execution_count": 79,
   "metadata": {},
   "outputs": [
    {
     "name": "stdout",
     "output_type": "stream",
     "text": [
      "The system\n"
     ]
    },
    {
     "data": {
      "text/latex": [
       "$\\displaystyle \\left[ \\frac{d}{d t} x_{1}{\\left(t \\right)} = x_{1}{\\left(t \\right)} + x_{2}{\\left(t \\right)}, \\  \\frac{d}{d t} x_{2}{\\left(t \\right)} = 4 x_{1}{\\left(t \\right)} + x_{2}{\\left(t \\right)}\\right]$"
      ]
     },
     "metadata": {},
     "output_type": "display_data"
    },
    {
     "name": "stdout",
     "output_type": "stream",
     "text": [
      "has solution\n"
     ]
    },
    {
     "data": {
      "text/latex": [
       "$\\displaystyle \\left[ x_{1}{\\left(t \\right)} = - \\frac{C_{1} e^{- t}}{2} + \\frac{C_{2} e^{3 t}}{2}, \\  x_{2}{\\left(t \\right)} = C_{1} e^{- t} + C_{2} e^{3 t}\\right]$"
      ]
     },
     "metadata": {},
     "output_type": "display_data"
    }
   ],
   "source": [
    "t = sym.symbols('t')\n",
    "x1 = sym.Function('x1')\n",
    "x2 = sym.Function('x2')\n",
    "system = [sym.Eq(x1(t).diff(t), x1(t)+x2(t)),\n",
    "          sym.Eq(x2(t).diff(t), 4*x1(t)+x2(t))]\n",
    "print(\"The system\")\n",
    "display_latex(system)\n",
    "system_sol = sym.dsolve(system)\n",
    "print(\"has solution\")\n",
    "display_latex(system_sol)"
   ]
  },
  {
   "cell_type": "markdown",
   "metadata": {
    "deletable": false,
    "editable": false,
    "nbgrader": {
     "cell_type": "markdown",
     "checksum": "728736999bfd4694c70ba5783eb59432",
     "grade": false,
     "grade_id": "Lab1_S2_task1",
     "locked": true,
     "schema_version": 3,
     "solution": false,
     "task": false
    }
   },
   "source": [
    "<span class=\"label label-danger\">Task</span>\n",
    "Check that this agrees with the solution given in the book: $$\\mathbf{x}=c_1\\begin{pmatrix}1\\\\2\\end{pmatrix}e^{3t}+c_2\\begin{pmatrix}1\\\\-2\\end{pmatrix}e^{-t}$$"
   ]
  },
  {
   "cell_type": "markdown",
   "metadata": {
    "deletable": false,
    "editable": false,
    "nbgrader": {
     "cell_type": "markdown",
     "checksum": "eb7de0959abc58f3de49c538e0f5c68d",
     "grade": false,
     "grade_id": "Lab1_S2_02",
     "locked": true,
     "schema_version": 3,
     "solution": false,
     "task": false
    }
   },
   "source": [
    "It's also worth noting that SymPy can give us the eigenvalues and eigenvectors for the matrix, which gives another way to find the solution of the system:"
   ]
  },
  {
   "cell_type": "code",
   "execution_count": 80,
   "metadata": {},
   "outputs": [
    {
     "data": {
      "text/latex": [
       "$\\displaystyle \\left[ \\left( -1, \\  1, \\  \\left[ \\left[\\begin{matrix}- \\frac{1}{2}\\\\1\\end{matrix}\\right]\\right]\\right), \\  \\left( 3, \\  1, \\  \\left[ \\left[\\begin{matrix}\\frac{1}{2}\\\\1\\end{matrix}\\right]\\right]\\right)\\right]$"
      ],
      "text/plain": [
       "⎡⎛       ⎡⎡-1/2⎤⎤⎞  ⎛      ⎡⎡1/2⎤⎤⎞⎤\n",
       "⎢⎜-1, 1, ⎢⎢    ⎥⎥⎟, ⎜3, 1, ⎢⎢   ⎥⎥⎟⎥\n",
       "⎣⎝       ⎣⎣ 1  ⎦⎦⎠  ⎝      ⎣⎣ 1 ⎦⎦⎠⎦"
      ]
     },
     "execution_count": 80,
     "metadata": {},
     "output_type": "execute_result"
    }
   ],
   "source": [
    "M = sym.Matrix([[1,1],[4,1]])\n",
    "M.eigenvects()"
   ]
  },
  {
   "cell_type": "markdown",
   "metadata": {
    "deletable": false,
    "editable": false,
    "nbgrader": {
     "cell_type": "markdown",
     "checksum": "f5a5c237b12bcf7023793d2b8c04c33e",
     "grade": false,
     "grade_id": "Lab1_S2_task2",
     "locked": true,
     "schema_version": 3,
     "solution": false,
     "task": false
    }
   },
   "source": [
    "<span class=\"label label-danger\">Task</span>\n",
    "What does this output tell us? (You may want to [check the documentation on eigenvects()](https://docs.sympy.org/latest/tutorial/matrices.html#eigenvalues-eigenvectors-and-diagonalization)) How does this relate to the solution given in the book?"
   ]
  },
  {
   "cell_type": "markdown",
   "metadata": {
    "deletable": false,
    "editable": false,
    "nbgrader": {
     "cell_type": "markdown",
     "checksum": "a832c7948adb4c181c9fe71bba228f31",
     "grade": false,
     "grade_id": "Lab1_S2_03",
     "locked": true,
     "schema_version": 3,
     "solution": false,
     "task": false
    }
   },
   "source": [
    "To make it easier to solve 2x2 systems like this, we can define a **function** that will take in a matrix defining the system, and give us back the corresponding system of equations."
   ]
  },
  {
   "cell_type": "code",
   "execution_count": 81,
   "metadata": {},
   "outputs": [
    {
     "data": {
      "image/png": "[encoded data removed]",
      "text/latex": [
       "$\\displaystyle \\left[ x_{1}{\\left(t \\right)} = - \\frac{C_{1} e^{- t}}{2} + \\frac{C_{2} e^{3 t}}{2}, \\  x_{2}{\\left(t \\right)} = C_{1} e^{- t} + C_{2} e^{3 t}\\right]$"
      ],
      "text/plain": [
       "⎡              -t       3⋅t                          ⎤\n",
       "⎢          C₁⋅ℯ     C₂⋅ℯ                 -t       3⋅t⎥\n",
       "⎢x₁(t) = - ────── + ───────, x₂(t) = C₁⋅ℯ   + C₂⋅ℯ   ⎥\n",
       "⎣            2         2                             ⎦"
      ]
     },
     "execution_count": 81,
     "metadata": {},
     "output_type": "execute_result"
    }
   ],
   "source": [
    "#\n",
    "# Produce a function that takes in a 2x2 matrix,\n",
    "# and returns the system of ODEs\n",
    "#\n",
    "def lin_system(M):\n",
    "    '''\n",
    "    Given a 2x2 SymPy Matrix, return the corresponding system of equations\n",
    "    '''\n",
    "    t = sym.symbols('t')\n",
    "    x1 = sym.Function('x1')\n",
    "    x2 = sym.Function('x2')\n",
    "    system = [sym.Eq(x1(t).diff(t), M[0,0]*x1(t)+M[0,1]*x2(t)),\n",
    "            sym.Eq(x2(t).diff(t), M[1,0]*x1(t)+M[1,1]*x2(t))]\n",
    "    return(system)\n",
    "\n",
    "sym.dsolve(lin_system(sym.Matrix([[1,1],[4,1]])))"
   ]
  },
  {
   "cell_type": "markdown",
   "metadata": {
    "deletable": false,
    "editable": false,
    "nbgrader": {
     "cell_type": "markdown",
     "checksum": "4bb6fc88f0a102319fe39e001f20b9ed",
     "grade": false,
     "grade_id": "Lab1_S2_04",
     "locked": true,
     "schema_version": 3,
     "solution": false,
     "task": false
    }
   },
   "source": [
    "This gives the same result as above, as expected.\n",
    "\n",
    "Let's now use this method to investigate the systems in the Week 2 Tutorial sheet."
   ]
  },
  {
   "cell_type": "code",
   "execution_count": 82,
   "metadata": {},
   "outputs": [
    {
     "data": {
      "image/png": "[encoded data removed]",
      "text/latex": [
       "$\\displaystyle \\left[ x_{1}{\\left(t \\right)} = \\frac{C_{1} e^{- t}}{3} + C_{2} e^{t}, \\  x_{2}{\\left(t \\right)} = C_{1} e^{- t} + C_{2} e^{t}\\right]$"
      ],
      "text/plain": [
       "⎡            -t                                ⎤\n",
       "⎢        C₁⋅ℯ         t              -t       t⎥\n",
       "⎢x₁(t) = ────── + C₂⋅ℯ , x₂(t) = C₁⋅ℯ   + C₂⋅ℯ ⎥\n",
       "⎣          3                                   ⎦"
      ]
     },
     "execution_count": 82,
     "metadata": {},
     "output_type": "execute_result"
    }
   ],
   "source": [
    "# 2(a)(i)\n",
    "sym.dsolve(lin_system(sym.Matrix([[2,-1],[3,-2]])))"
   ]
  },
  {
   "cell_type": "markdown",
   "metadata": {
    "deletable": false,
    "editable": false,
    "nbgrader": {
     "cell_type": "markdown",
     "checksum": "f0ccdd28a2c3a484425cfe3e2f57a92f",
     "grade": false,
     "grade_id": "Lab1_S2_task3",
     "locked": true,
     "schema_version": 3,
     "solution": false,
     "task": false
    }
   },
   "source": [
    "<span class=\"label label-danger\">Task</span> Does this agree with what you found in the Tutorial?"
   ]
  },
  {
   "cell_type": "markdown",
   "metadata": {
    "nbgrader": {
     "grade": false,
     "grade_id": "cell-f5136e11aee8e74e",
     "locked": false,
     "schema_version": 3,
     "solution": false,
     "task": false
    }
   },
   "source": []
  },
  {
   "cell_type": "markdown",
   "metadata": {
    "deletable": false,
    "editable": false,
    "nbgrader": {
     "cell_type": "markdown",
     "checksum": "aa94dc5e16c079e6bed1b242f1edc8b4",
     "grade": false,
     "grade_id": "Lab1_S2_plotting",
     "locked": true,
     "schema_version": 3,
     "solution": false,
     "task": false
    }
   },
   "source": [
    "### Plotting solutions\n",
    "\n",
    "We can also use SymPy to plot particular solutions. Here, we specifcy some initial conditions and use the [plot_parametric](https://docs.sympy.org/latest/modules/plotting.html#sympy.plotting.plot.plot_parametric) function to plot the resulting solution for $-2\\leq t\\leq2$."
   ]
  },
  {
   "cell_type": "code",
   "execution_count": 85,
   "metadata": {},
   "outputs": [
    {
     "data": {
      "text/latex": [
       "$\\displaystyle \\left( - \\frac{e^{t}}{2} + \\frac{e^{- t}}{2}, \\  - \\frac{e^{t}}{2} + \\frac{3 e^{- t}}{2}\\right)$"
      ]
     },
     "metadata": {},
     "output_type": "display_data"
    },
    {
     "data": {
      "image/png": "[encoded data removed]",
      "text/plain": [
       "<Figure size 640x480 with 1 Axes>"
      ]
     },
     "metadata": {},
     "output_type": "display_data"
    },
    {
     "data": {
      "text/plain": [
       "<sympy.plotting.plot.Plot at 0x7f7c348c25e0>"
      ]
     },
     "execution_count": 85,
     "metadata": {},
     "output_type": "execute_result"
    }
   ],
   "source": [
    "sol_2ai = sym.dsolve(lin_system(sym.Matrix([[2,-1],[3,-2]])),\n",
    "                     ics={x1(0):0, x2(0):1})\n",
    "display_latex((sol_2ai[0].rhs, sol_2ai[1].rhs))\n",
    "import sympy.plotting as sym_plot\n",
    "sym_plot.plot_parametric(sol_2ai[0].rhs, sol_2ai[1].rhs, (t,-2,2))"
   ]
  },
  {
   "cell_type": "markdown",
   "metadata": {
    "deletable": false,
    "editable": false,
    "nbgrader": {
     "cell_type": "markdown",
     "checksum": "174838bfd4f8b3a32449b266cdcf092f",
     "grade": false,
     "grade_id": "Lab1_S2_task4",
     "locked": true,
     "schema_version": 3,
     "solution": false,
     "task": false
    }
   },
   "source": [
    "<span class=\"label label-danger\">Task</span> Try adjusting the code above so that the solution is plotted over different ranges of $t$. Can you explain what you see, based on the form of the solution?"
   ]
  },
  {
   "cell_type": "markdown",
   "metadata": {
    "deletable": false,
    "editable": false,
    "nbgrader": {
     "cell_type": "markdown",
     "checksum": "8758733664d897da6b5f28b568030dee",
     "grade": false,
     "grade_id": "Lab1_S2_E1",
     "locked": true,
     "schema_version": 3,
     "solution": false,
     "task": false
    }
   },
   "source": [
    "<div class=\"alert alert-info\">\n",
    "    <h3>Exercise 2.1</h3>\n",
    "    <p>The goal of this exercise is to solve some linear systems. But to do that efficiently, we will first create a function.</p>\n",
    "    <p><span class=\"label label-primary\">a</span> Complete the definition below of the function <code>solve_lin_system</code>. This function should take two arguments - a 2x2 matrix for a linear system, a list specifying initial conditions. It should return the particular solution associated with that system with those initial conditions. </p>\n",
    "    <p><span class=\"label label-primary\">b</span> Use your function, <code>solve_lin_system(sym.Matrix([[2,-1],[3,-2]]), [0,1])</code>, to replicate the results above and produce output like the following:</p>\n",
    "    <p><img src=\"http://www.maths.ed.ac.uk/gkinnear/img/lin_system.png\" width=\"300px\"/></p> \n",
    "    <p><span class=\"label label-primary\">c</span> Use the <code>solve_lin_system</code> function to solve these other systems from Tutorial 2, Q2(a):</p>\n",
    "\n",
    "**i.** $\\mathbf{x}'=\\begin{pmatrix}-2 & 1\\\\ 1 & -2\\end{pmatrix}\\mathbf{x}$,\n",
    "\n",
    "**ii.** $\\mathbf{x}'=\\begin{pmatrix}4 & -3\\\\ 8 & -6\\end{pmatrix}\\mathbf{x}$.\n",
    "\n",
    "   <p>Make some plots trying different initial conditions and time ranges, and make sure the output makes sense to you.</p>\n",
    "</div>"
   ]
  },
  {
   "cell_type": "code",
   "execution_count": 96,
   "metadata": {
    "deletable": false,
    "nbgrader": {
     "cell_type": "code",
     "checksum": "d3554633aa1daee5e1e8275511aa1756",
     "grade": false,
     "grade_id": "Lab1_S2_E1_A",
     "locked": false,
     "schema_version": 3,
     "solution": true,
     "task": false
    }
   },
   "outputs": [
    {
     "data": {
      "image/png": "[encoded data removed]",
      "text/latex": [
       "$\\displaystyle \\left[ x_{1}{\\left(t \\right)} = - \\frac{e^{t}}{2} + \\frac{e^{- t}}{2}, \\  x_{2}{\\left(t \\right)} = - \\frac{e^{t}}{2} + \\frac{3 e^{- t}}{2}\\right]$"
      ],
      "text/plain": [
       "⎡           t    -t             t      -t⎤\n",
       "⎢          ℯ    ℯ              ℯ    3⋅ℯ  ⎥\n",
       "⎢x₁(t) = - ── + ───, x₂(t) = - ── + ─────⎥\n",
       "⎣          2     2             2      2  ⎦"
      ]
     },
     "execution_count": 96,
     "metadata": {},
     "output_type": "execute_result"
    }
   ],
   "source": [
    "# Your code here for (a)\n",
    "from sympy import Matrix, symbols, Function, Eq, dsolve\n",
    "\n",
    "def solve_lin_system(M, ics):\n",
    "    '''\n",
    "    This function should take two arguments - a 2x2 matrix for a linear system\n",
    "    and a list specifying initial conditions It should return the particular\n",
    "    solution for that system with those ICs.\n",
    "    '''\n",
    "    # Define the independent variable\n",
    "    t = symbols('t')\n",
    "    \n",
    "    # Define the dependent variables as functions of t\n",
    "    x1 = Function('x1')(t)\n",
    "    x2 = Function('x2')(t)\n",
    "    \n",
    "    # Define the system of equations using the matrix M\n",
    "    system = [\n",
    "        Eq(x1.diff(t), M[0, 0] * x1 + M[0, 1] * x2),\n",
    "        Eq(x2.diff(t), M[1, 0] * x1 + M[1, 1] * x2)\n",
    "    ]\n",
    "    \n",
    "    # Solve the system of differential equations with initial conditions\n",
    "    sol = dsolve(system, ics={x1.subs(t, 0): ics[0], x2.subs(t, 0): ics[1]})\n",
    "    \n",
    "    return sol\n",
    "    #raise NotImplementedError()\n",
    "\n",
    "solve_lin_system(sym.Matrix([[2,-1],[3,-2]]), [0,1])"
   ]
  },
  {
   "cell_type": "code",
   "execution_count": 99,
   "metadata": {
    "deletable": false,
    "editable": false,
    "nbgrader": {
     "cell_type": "code",
     "checksum": "6de487a9c26788158e5f23812e0a8e4b",
     "grade": true,
     "grade_id": "Lab1_S2_E1_A_test",
     "locked": true,
     "points": 1.5,
     "schema_version": 3,
     "solution": false,
     "task": false
    }
   },
   "outputs": [
    {
     "name": "stdout",
     "output_type": "stream",
     "text": [
      "Success: the solution from your function satisfies the ICs!\n"
     ]
    }
   ],
   "source": [
    "# Autograder test\n",
    "sls = solve_lin_system(sym.Matrix([[2,-1],[3,-2]]), [0,1])\n",
    "psol1 = sym.Lambda(t,sls[0].rhs)\n",
    "psol2 = sym.Lambda(t,sls[1].rhs)\n",
    "assert (psol1(0), psol2(0)) == (0, 1)\n",
    "print(\"Success: the solution from your function satisfies the ICs!\")\n"
   ]
  },
  {
   "cell_type": "code",
   "execution_count": null,
   "metadata": {
    "deletable": false,
    "nbgrader": {
     "cell_type": "code",
     "checksum": "9e940e7d1e4b86e707eda5d5f577914b",
     "grade": false,
     "grade_id": "Lab1_S2_E1_B",
     "locked": false,
     "schema_version": 3,
     "solution": true,
     "task": false
    }
   },
   "outputs": [],
   "source": [
    "# Your code here for (b)\n",
    "\n",
    "# YOUR CODE HERE\n",
    "raise NotImplementedError()"
   ]
  },
  {
   "cell_type": "code",
   "execution_count": null,
   "metadata": {
    "deletable": false,
    "nbgrader": {
     "cell_type": "code",
     "checksum": "6c8dbcc6525b8d4b43e25b224999d998",
     "grade": false,
     "grade_id": "Lab1_S2_E1_C_i",
     "locked": false,
     "schema_version": 3,
     "solution": true,
     "task": false
    }
   },
   "outputs": [],
   "source": [
    "# Your code here for (c)(i)\n",
    "\n",
    "# YOUR CODE HERE\n",
    "raise NotImplementedError()"
   ]
  },
  {
   "cell_type": "code",
   "execution_count": null,
   "metadata": {
    "deletable": false,
    "nbgrader": {
     "cell_type": "code",
     "checksum": "fbe35231b6452beb7c69ea4cfefc176b",
     "grade": false,
     "grade_id": "Lab1_S2_E1_C_ii",
     "locked": false,
     "schema_version": 3,
     "solution": true,
     "task": false
    }
   },
   "outputs": [],
   "source": [
    "# Your code here for (c)(ii)\n",
    "\n",
    "# YOUR CODE HERE\n",
    "raise NotImplementedError()"
   ]
  },
  {
   "cell_type": "markdown",
   "metadata": {
    "deletable": false,
    "editable": false,
    "nbgrader": {
     "cell_type": "markdown",
     "checksum": "ae36a70ddb13abd043fbc1d940c1ad53",
     "grade": false,
     "grade_id": "Lab1_S2_05",
     "locked": true,
     "schema_version": 3,
     "solution": false,
     "task": false
    }
   },
   "source": [
    "### Challenge: simplifying complex expressions using `map`\n",
    "\n",
    "In Workshop 2, the final part of Q2(a) has a system with complex coefficients:\n",
    "\n",
    "$$\\mathbf{x}'=\\begin{pmatrix}2 & 2+i\\\\ -1 & -1-i\\end{pmatrix}\\mathbf{x}.$$\n",
    "\n",
    "To deal with complex numbers, we need to enter $i$ as `sym.I`. The solution provided by `sym.dsolve` looks surprisingly complicated!"
   ]
  },
  {
   "cell_type": "code",
   "execution_count": null,
   "metadata": {},
   "outputs": [],
   "source": [
    "M_2aiv = sym.Matrix([[2, 2+sym.I],[-1, -1-sym.I]])\n",
    "sym.dsolve(lin_system(M_2aiv))"
   ]
  },
  {
   "cell_type": "markdown",
   "metadata": {
    "deletable": false,
    "editable": false,
    "nbgrader": {
     "cell_type": "markdown",
     "checksum": "8d4964ae5b9ee69e7fdb1fc6f1bba60d",
     "grade": false,
     "grade_id": "Lab1_S2_06",
     "locked": true,
     "schema_version": 3,
     "solution": false,
     "task": false
    }
   },
   "source": [
    "This is because there are expressions involving $i$ which need to be expanded and simplified. To see how to do that, notice that in this simpler example, the first entry of `exprs` is not automatically expanded and simplified:"
   ]
  },
  {
   "cell_type": "code",
   "execution_count": null,
   "metadata": {},
   "outputs": [],
   "source": [
    "exprs = [(sym.I+3)**2, sym.I]\n",
    "exprs"
   ]
  },
  {
   "cell_type": "markdown",
   "metadata": {
    "deletable": false,
    "editable": false,
    "nbgrader": {
     "cell_type": "markdown",
     "checksum": "5a022b7b566069a740aaaddfbef00d3c",
     "grade": false,
     "grade_id": "Lab1_S2_07",
     "locked": true,
     "schema_version": 3,
     "solution": false,
     "task": false
    }
   },
   "source": [
    "We can use the `expand` function to get SymPy to expand out the brackets and simplify:"
   ]
  },
  {
   "cell_type": "code",
   "execution_count": null,
   "metadata": {},
   "outputs": [],
   "source": [
    "exprs[0].expand()"
   ]
  },
  {
   "cell_type": "markdown",
   "metadata": {
    "deletable": false,
    "editable": false,
    "nbgrader": {
     "cell_type": "markdown",
     "checksum": "2c026a95959c0ea93f0ee52f1c316e61",
     "grade": false,
     "grade_id": "Lab1_S2_08",
     "locked": true,
     "schema_version": 3,
     "solution": false,
     "task": false
    }
   },
   "source": [
    "To do this to all entries of exprs at once, we can use the `map` function:"
   ]
  },
  {
   "cell_type": "code",
   "execution_count": null,
   "metadata": {},
   "outputs": [],
   "source": [
    "list(map(sym.expand, exprs))"
   ]
  },
  {
   "cell_type": "markdown",
   "metadata": {
    "deletable": false,
    "editable": false,
    "nbgrader": {
     "cell_type": "markdown",
     "checksum": "c52dfd20220620a066285173be05c1ae",
     "grade": false,
     "grade_id": "Lab1_S2_09",
     "locked": true,
     "schema_version": 3,
     "solution": false,
     "task": false
    }
   },
   "source": [
    "This takes the `sym.expand` function and applies it to each entry in `exprs`."
   ]
  },
  {
   "cell_type": "markdown",
   "metadata": {
    "deletable": false,
    "editable": false,
    "nbgrader": {
     "cell_type": "markdown",
     "checksum": "902bfc8c363a18ff3d652379264dded9",
     "grade": false,
     "grade_id": "Lab1_S2_E2",
     "locked": true,
     "schema_version": 3,
     "solution": false,
     "task": false
    }
   },
   "source": [
    "<div class=\"alert alert-info\">\n",
    "    <h3>Exercise 2.2</h3>\n",
    "    <p>Make use of <code>map</code> to find the general solution to the system above (Q2(a)(iv) from Tutorial 2).</p>\n",
    "    <p>Compare your results with the solution you computed by hand. <i>Hint:</i> recall from above that the <code>eigenvects()</code> function can give another way to see the solutions.</p>\n",
    "</div>"
   ]
  },
  {
   "cell_type": "code",
   "execution_count": null,
   "metadata": {
    "deletable": false,
    "nbgrader": {
     "cell_type": "code",
     "checksum": "b8fc8141829df9d6d8a78a0da1cfa98b",
     "grade": false,
     "grade_id": "Lab1_S2_E2_answer",
     "locked": false,
     "schema_version": 3,
     "solution": true,
     "task": false
    }
   },
   "outputs": [],
   "source": [
    "# Your code here\n",
    "# Use the variable name sol_2aiv for the list\n",
    "\n",
    "# YOUR CODE HERE\n",
    "raise NotImplementedError()"
   ]
  },
  {
   "cell_type": "code",
   "execution_count": null,
   "metadata": {
    "deletable": false,
    "editable": false,
    "nbgrader": {
     "cell_type": "code",
     "checksum": "614f8ebb099117d3cbefe61270710866",
     "grade": true,
     "grade_id": "Lab1_S2_E2_test",
     "locked": true,
     "points": 1,
     "schema_version": 3,
     "solution": false,
     "task": false
    }
   },
   "outputs": [],
   "source": [
    "# Autograder test\n",
    "assert len(sol_2aiv) == 2\n",
    "print(\"Success: the list has the right dimensions!\")\n"
   ]
  },
  {
   "cell_type": "markdown",
   "metadata": {
    "deletable": false,
    "editable": false,
    "nbgrader": {
     "cell_type": "markdown",
     "checksum": "217538b7a548b6de6c2d49cd3976b47e",
     "grade": false,
     "grade_id": "Lab1_S3_title",
     "locked": true,
     "schema_version": 3,
     "solution": false,
     "task": false
    }
   },
   "source": [
    "# 3. Numerical solution of ODEs"
   ]
  },
  {
   "cell_type": "markdown",
   "metadata": {
    "deletable": false,
    "editable": false,
    "nbgrader": {
     "cell_type": "markdown",
     "checksum": "c35b65df906e78f5252777827035f89a",
     "grade": false,
     "grade_id": "Lab1_S3_01",
     "locked": true,
     "schema_version": 3,
     "solution": false,
     "task": false
    }
   },
   "source": [
    "Solving ODEs symbolically is not always possible, but we can use numerical methods to compute approximate solutions.\n",
    "\n",
    "We will make use of several pacakges to do this:\n",
    "\n",
    "* [SciPy](https://docs.scipy.org/doc/scipy/reference/index.html) provides numerical methods for solving ODEs, in particular the [odeint](https://docs.scipy.org/doc/scipy/reference/generated/scipy.integrate.odeint.html) function.\n",
    "\n",
    "* [NumPy](https://www.numpy.org/) provides useful tools for doing numerical calculations.\n",
    "\n",
    "* [Matplotlib](https://matplotlib.org/) is a widely-used library that produces plots from numerical data.\n",
    "\n",
    "The following chunk of code gets all of this set up:"
   ]
  },
  {
   "cell_type": "code",
   "execution_count": 2,
   "metadata": {},
   "outputs": [],
   "source": [
    "import numpy as np\n",
    "import matplotlib.pyplot as plt\n",
    "from scipy.integrate import odeint\n",
    "%matplotlib notebook"
   ]
  },
  {
   "cell_type": "markdown",
   "metadata": {
    "deletable": false,
    "editable": false,
    "nbgrader": {
     "cell_type": "markdown",
     "checksum": "4d347957603629a08fc3fa86abbc6384",
     "grade": false,
     "grade_id": "Lab1_S3_02",
     "locked": true,
     "schema_version": 3,
     "solution": false,
     "task": false
    }
   },
   "source": [
    "Note that `%matplotlib notebook` makes the plots appear in an interactive window, with controls for zooming. Before moving on to the next plot, you should click the \"power\" icon in the top right of the plot, to close the interactive interface (if you don't do this, then the next plot will overwrite this one)."
   ]
  },
  {
   "cell_type": "markdown",
   "metadata": {
    "deletable": false,
    "editable": false,
    "nbgrader": {
     "cell_type": "markdown",
     "checksum": "9f738b534c7f00802e7e00e7a1197058",
     "grade": false,
     "grade_id": "Lab1_S3_03",
     "locked": true,
     "schema_version": 3,
     "solution": false,
     "task": false
    }
   },
   "source": [
    "***\n",
    "### Example\n",
    "To illustrate the method, let's return to the ODE we considered right at the start: $$\\frac{dy}{dt}-2y=4-t.$$\n",
    "***\n",
    "\n",
    "To use [odeint](https://docs.scipy.org/doc/scipy/reference/generated/scipy.integrate.odeint.html), we need to write a Python function that takes in $y$ and $t$ and returns $\\frac{dy}{dt}$. Rearranging the ODE, we have $$\\frac{dy}{dt}=4-t+2y$$ which we implement as follows:"
   ]
  },
  {
   "cell_type": "code",
   "execution_count": 7,
   "metadata": {},
   "outputs": [],
   "source": [
    "def dy_dt(y, t):\n",
    "    return(4-t+2*y)"
   ]
  },
  {
   "cell_type": "markdown",
   "metadata": {
    "deletable": false,
    "editable": false,
    "nbgrader": {
     "cell_type": "markdown",
     "checksum": "a74660ff26e856edac7a758a8681b118",
     "grade": false,
     "grade_id": "Lab1_S3_04",
     "locked": true,
     "schema_version": 3,
     "solution": false,
     "task": false
    }
   },
   "source": [
    "Next we define the initial condition `y0` and set up an array of equally-spaced points between 0 and 2 (which we call `t`). We then pass all of these ingredients to the `odeint` function, which returns the solution."
   ]
  },
  {
   "cell_type": "code",
   "execution_count": 8,
   "metadata": {},
   "outputs": [],
   "source": [
    "y0 = 0\n",
    "t = np.linspace(0, 2, 50)\n",
    "sol = odeint(dy_dt, y0, t)"
   ]
  },
  {
   "cell_type": "markdown",
   "metadata": {
    "deletable": false,
    "editable": false,
    "nbgrader": {
     "cell_type": "markdown",
     "checksum": "2d4fd082564ece8adadfa44c7561ca8f",
     "grade": false,
     "grade_id": "Lab1_S3_task1",
     "locked": true,
     "schema_version": 3,
     "solution": false,
     "task": false
    }
   },
   "source": [
    "<span class=\"label label-danger\">Task</span> Using either a new notebook cell or just adding an extra line to the one above, print out the value of `sol` so you can see what form it takes.\n",
    "\n",
    "We can then use the [Matplotlib plot function](https://matplotlib.org/3.1.1/api/_as_gen/matplotlib.pyplot.plot.html) to produce a plot of the solution:"
   ]
  },
  {
   "cell_type": "code",
   "execution_count": 9,
   "metadata": {},
   "outputs": [],
   "source": [
    "plt.plot(t, sol, 'b', label='y(t)') # 'b' is a way of specifying the line colour\n",
    "plt.legend(loc='best')\n",
    "plt.xlabel('t')\n",
    "plt.show()"
   ]
  },
  {
   "cell_type": "markdown",
   "metadata": {
    "deletable": false,
    "editable": false,
    "nbgrader": {
     "cell_type": "markdown",
     "checksum": "00472b4d0862092c38c1b913dbb8eba9",
     "grade": false,
     "grade_id": "Lab1_S3_05",
     "locked": true,
     "schema_version": 3,
     "solution": false,
     "task": false
    }
   },
   "source": [
    "***\n",
    "### Example\n",
    "$$2y'+ty=2$$\n",
    "\n",
    "This is Example 5 in §2.1 of Boyce & DiPrima (pp38-39).\n",
    "***\n",
    "It turns out that SymPy _can_ solve this system, though it requires the use of a \"special function\", i.e. not one of the standard functions like $\\exp$, $\\sin$, $\\cos$."
   ]
  },
  {
   "cell_type": "code",
   "execution_count": 10,
   "metadata": {},
   "outputs": [
    {
     "ename": "NameError",
     "evalue": "name 'sym' is not defined",
     "output_type": "error",
     "traceback": [
      "\u001b[0;31m---------------------------------------------------------------------------\u001b[0m",
      "\u001b[0;31mNameError\u001b[0m                                 Traceback (most recent call last)",
      "Cell \u001b[0;32mIn[10], line 1\u001b[0m\n\u001b[0;32m----> 1\u001b[0m t \u001b[38;5;241m=\u001b[39m \u001b[43msym\u001b[49m\u001b[38;5;241m.\u001b[39msymbols(\u001b[38;5;124m'\u001b[39m\u001b[38;5;124mt\u001b[39m\u001b[38;5;124m'\u001b[39m)\n\u001b[1;32m      2\u001b[0m y \u001b[38;5;241m=\u001b[39m sym\u001b[38;5;241m.\u001b[39mFunction(\u001b[38;5;124m'\u001b[39m\u001b[38;5;124my\u001b[39m\u001b[38;5;124m'\u001b[39m)\n\u001b[1;32m      3\u001b[0m sym\u001b[38;5;241m.\u001b[39mdsolve(sym\u001b[38;5;241m.\u001b[39mEq(\u001b[38;5;241m2\u001b[39m\u001b[38;5;241m*\u001b[39my(t)\u001b[38;5;241m.\u001b[39mdiff(t)\u001b[38;5;241m+\u001b[39mt\u001b[38;5;241m*\u001b[39my(t),\u001b[38;5;241m2\u001b[39m))\n",
      "\u001b[0;31mNameError\u001b[0m: name 'sym' is not defined"
     ]
    }
   ],
   "source": [
    "t = sym.symbols('t')\n",
    "y = sym.Function('y')\n",
    "sym.dsolve(sym.Eq(2*y(t).diff(t)+t*y(t),2))"
   ]
  },
  {
   "cell_type": "markdown",
   "metadata": {
    "deletable": false,
    "editable": false,
    "nbgrader": {
     "cell_type": "markdown",
     "checksum": "02fcd6497cd975a789bd73b2fafac2ac",
     "grade": false,
     "grade_id": "Lab1_S3_06",
     "locked": true,
     "schema_version": 3,
     "solution": false,
     "task": false
    }
   },
   "source": [
    "We can use the `odeint` numerical solver to produce graphs of several different particular solutions – this replicates Figure 2.1.4 from Boyce & DiPrima:"
   ]
  },
  {
   "cell_type": "code",
   "execution_count": 11,
   "metadata": {},
   "outputs": [],
   "source": [
    "def dy_dt(y, t):\n",
    "    return(1-t*y/2)\n",
    "\n",
    "t = np.linspace(0, 6, 50)\n",
    "\n",
    "for y0 in np.arange(-6, 6)/2:\n",
    "    sol = odeint(dy_dt, y0, t)\n",
    "    plt.plot(t, sol)\n",
    "\n",
    "plt.xlabel('t')\n",
    "plt.show()"
   ]
  },
  {
   "cell_type": "markdown",
   "metadata": {
    "deletable": false,
    "editable": false,
    "nbgrader": {
     "cell_type": "markdown",
     "checksum": "849940aac29d868648d2f621a0bd4cd2",
     "grade": false,
     "grade_id": "Lab1_S3_task2",
     "locked": true,
     "schema_version": 3,
     "solution": false,
     "task": false
    }
   },
   "source": [
    "<span class=\"label label-danger\">Task</span> In the code above, do you understand `np.arange(-6, 6)/2`? Check what happens if you remove the `/2`."
   ]
  },
  {
   "cell_type": "markdown",
   "metadata": {
    "deletable": false,
    "editable": false,
    "nbgrader": {
     "cell_type": "markdown",
     "checksum": "8ad70a2fd59cfc3aaaadbbed98854862",
     "grade": false,
     "grade_id": "Lab1_S3_E1",
     "locked": true,
     "schema_version": 3,
     "solution": false,
     "task": false
    }
   },
   "source": [
    "<div class=\"alert alert-info\">\n",
    "    <h3>Exercise 3.1</h3>\n",
    "    <p>Use the <code>odeint</code> numerical solver to show particular solutions of $$y'+\\tfrac12y=\\tfrac12 e^{t/3},$$ with $y(0)\\in\\left\\{-2,-1,0,1,2,3,4\\right\\}$. (Note: this is replicating Figure 2.1.1 from p34 of Boyce &amp; DiPrima.)</p>\n",
    "</div>"
   ]
  },
  {
   "cell_type": "code",
   "execution_count": null,
   "metadata": {
    "deletable": false,
    "nbgrader": {
     "cell_type": "code",
     "checksum": "2610fea4fa857c6413e7890645a2ebce",
     "grade": false,
     "grade_id": "Lab1_S3_E1_answer",
     "locked": false,
     "schema_version": 3,
     "solution": true,
     "task": false
    }
   },
   "outputs": [],
   "source": [
    "# YOUR CODE HERE\n",
    "raise NotImplementedError()"
   ]
  },
  {
   "cell_type": "markdown",
   "metadata": {
    "deletable": false,
    "editable": false,
    "nbgrader": {
     "cell_type": "markdown",
     "checksum": "e7c5abe235ea2f0a50e2bb8440ed8f2b",
     "grade": false,
     "grade_id": "Lab1_S4_title",
     "locked": true,
     "schema_version": 3,
     "solution": false,
     "task": false
    }
   },
   "source": [
    "# 4. Numerical solution of systems of ODEs"
   ]
  },
  {
   "cell_type": "markdown",
   "metadata": {
    "deletable": false,
    "editable": false,
    "nbgrader": {
     "cell_type": "markdown",
     "checksum": "ab7c3fac6e78721e01bb926cd7a4d56c",
     "grade": false,
     "grade_id": "Lab1_S4_01",
     "locked": true,
     "schema_version": 3,
     "solution": false,
     "task": false
    }
   },
   "source": [
    "We will return to this in later labs, once we start studying nonlinear systems. For those, numerical methods are particularly important because the symbolic solutions are either complicated or impossible to compute.\n",
    "\n",
    "For now, we will look at a linear system, just to demonstrate the method:\n",
    "\n",
    "***\n",
    "### Example\n",
    "Plot the solution of the system $$\\mathbf{x}'=\\begin{pmatrix}-\\frac12 & 1\\\\ -1 & -\\frac12\\end{pmatrix}\\mathbf{x},$$\n",
    "with initial condition $(-2, -3)$. This appears as Example 1 in §7.6 of Boyce & DiPrima.\n",
    "***\n",
    "\n",
    "Translating the notation into something sensible in Python is the hard part here. We will use `X = [x1,x2]` to represent the vector $\\mathbf{x}$, so `dX_dt` represents $\\mathbf{x}'$. This is a function of `X` and the underlying time parameter `t`, which we encode in Python as follows:"
   ]
  },
  {
   "cell_type": "code",
   "execution_count": 3,
   "metadata": {},
   "outputs": [
    {
     "data": {
      "application/javascript": [
       "/* Put everything inside the global mpl namespace */\n",
       "/* global mpl */\n",
       "window.mpl = {};\n",
       "\n",
       "mpl.get_websocket_type = function () {\n",
       "    if (typeof WebSocket !== 'undefined') {\n",
       "        return WebSocket;\n",
       "    } else if (typeof MozWebSocket !== 'undefined') {\n",
       "        return MozWebSocket;\n",
       "    } else {\n",
       "        alert(\n",
       "            'Your browser does not have WebSocket support. ' +\n",
       "                'Please try Chrome, Safari or Firefox ≥ 6. ' +\n",
       "                'Firefox 4 and 5 are also supported but you ' +\n",
       "                'have to enable WebSockets in about:config.'\n",
       "        );\n",
       "    }\n",
       "};\n",
       "\n",
       "mpl.figure = function (figure_id, websocket, ondownload, parent_element) {\n",
       "    this.id = figure_id;\n",
       "\n",
       "    this.ws = websocket;\n",
       "\n",
       "    this.supports_binary = this.ws.binaryType !== undefined;\n",
       "\n",
       "    if (!this.supports_binary) {\n",
       "        var warnings = document.getElementById('mpl-warnings');\n",
       "        if (warnings) {\n",
       "            warnings.style.display = 'block';\n",
       "            warnings.textContent =\n",
       "                'This browser does not support binary websocket messages. ' +\n",
       "                'Performance may be slow.';\n",
       "        }\n",
       "    }\n",
       "\n",
       "    this.imageObj = new Image();\n",
       "\n",
       "    this.context = undefined;\n",
       "    this.message = undefined;\n",
       "    this.canvas = undefined;\n",
       "    this.rubberband_canvas = undefined;\n",
       "    this.rubberband_context = undefined;\n",
       "    this.format_dropdown = undefined;\n",
       "\n",
       "    this.image_mode = 'full';\n",
       "\n",
       "    this.root = document.createElement('div');\n",
       "    this.root.setAttribute('style', 'display: inline-block');\n",
       "    this._root_extra_style(this.root);\n",
       "\n",
       "    parent_element.appendChild(this.root);\n",
       "\n",
       "    this._init_header(this);\n",
       "    this._init_canvas(this);\n",
       "    this._init_toolbar(this);\n",
       "\n",
       "    var fig = this;\n",
       "\n",
       "    this.waiting = false;\n",
       "\n",
       "    this.ws.onopen = function () {\n",
       "        fig.send_message('supports_binary', { value: fig.supports_binary });\n",
       "        fig.send_message('send_image_mode', {});\n",
       "        if (fig.ratio !== 1) {\n",
       "            fig.send_message('set_device_pixel_ratio', {\n",
       "                device_pixel_ratio: fig.ratio,\n",
       "            });\n",
       "        }\n",
       "        fig.send_message('refresh', {});\n",
       "    };\n",
       "\n",
       "    this.imageObj.onload = function () {\n",
       "        if (fig.image_mode === 'full') {\n",
       "            // Full images could contain transparency (where diff images\n",
       "            // almost always do), so we need to clear the canvas so that\n",
       "            // there is no ghosting.\n",
       "            fig.context.clearRect(0, 0, fig.canvas.width, fig.canvas.height);\n",
       "        }\n",
       "        fig.context.drawImage(fig.imageObj, 0, 0);\n",
       "    };\n",
       "\n",
       "    this.imageObj.onunload = function () {\n",
       "        fig.ws.close();\n",
       "    };\n",
       "\n",
       "    this.ws.onmessage = this._make_on_message_function(this);\n",
       "\n",
       "    this.ondownload = ondownload;\n",
       "};\n",
       "\n",
       "mpl.figure.prototype._init_header = function () {\n",
       "    var titlebar = document.createElement('div');\n",
       "    titlebar.classList =\n",
       "        'ui-dialog-titlebar ui-widget-header ui-corner-all ui-helper-clearfix';\n",
       "    var titletext = document.createElement('div');\n",
       "    titletext.classList = 'ui-dialog-title';\n",
       "    titletext.setAttribute(\n",
       "        'style',\n",
       "        'width: 100%; text-align: center; padding: 3px;'\n",
       "    );\n",
       "    titlebar.appendChild(titletext);\n",
       "    this.root.appendChild(titlebar);\n",
       "    this.header = titletext;\n",
       "};\n",
       "\n",
       "mpl.figure.prototype._canvas_extra_style = function (_canvas_div) {};\n",
       "\n",
       "mpl.figure.prototype._root_extra_style = function (_canvas_div) {};\n",
       "\n",
       "mpl.figure.prototype._init_canvas = function () {\n",
       "    var fig = this;\n",
       "\n",
       "    var canvas_div = (this.canvas_div = document.createElement('div'));\n",
       "    canvas_div.setAttribute('tabindex', '0');\n",
       "    canvas_div.setAttribute(\n",
       "        'style',\n",
       "        'border: 1px solid #ddd;' +\n",
       "            'box-sizing: content-box;' +\n",
       "            'clear: both;' +\n",
       "            'min-height: 1px;' +\n",
       "            'min-width: 1px;' +\n",
       "            'outline: 0;' +\n",
       "            'overflow: hidden;' +\n",
       "            'position: relative;' +\n",
       "            'resize: both;' +\n",
       "            'z-index: 2;'\n",
       "    );\n",
       "\n",
       "    function on_keyboard_event_closure(name) {\n",
       "        return function (event) {\n",
       "            return fig.key_event(event, name);\n",
       "        };\n",
       "    }\n",
       "\n",
       "    canvas_div.addEventListener(\n",
       "        'keydown',\n",
       "        on_keyboard_event_closure('key_press')\n",
       "    );\n",
       "    canvas_div.addEventListener(\n",
       "        'keyup',\n",
       "        on_keyboard_event_closure('key_release')\n",
       "    );\n",
       "\n",
       "    this._canvas_extra_style(canvas_div);\n",
       "    this.root.appendChild(canvas_div);\n",
       "\n",
       "    var canvas = (this.canvas = document.createElement('canvas'));\n",
       "    canvas.classList.add('mpl-canvas');\n",
       "    canvas.setAttribute(\n",
       "        'style',\n",
       "        'box-sizing: content-box;' +\n",
       "            'pointer-events: none;' +\n",
       "            'position: relative;' +\n",
       "            'z-index: 0;'\n",
       "    );\n",
       "\n",
       "    this.context = canvas.getContext('2d');\n",
       "\n",
       "    var backingStore =\n",
       "        this.context.backingStorePixelRatio ||\n",
       "        this.context.webkitBackingStorePixelRatio ||\n",
       "        this.context.mozBackingStorePixelRatio ||\n",
       "        this.context.msBackingStorePixelRatio ||\n",
       "        this.context.oBackingStorePixelRatio ||\n",
       "        this.context.backingStorePixelRatio ||\n",
       "        1;\n",
       "\n",
       "    this.ratio = (window.devicePixelRatio || 1) / backingStore;\n",
       "\n",
       "    var rubberband_canvas = (this.rubberband_canvas = document.createElement(\n",
       "        'canvas'\n",
       "    ));\n",
       "    rubberband_canvas.setAttribute(\n",
       "        'style',\n",
       "        'box-sizing: content-box;' +\n",
       "            'left: 0;' +\n",
       "            'pointer-events: none;' +\n",
       "            'position: absolute;' +\n",
       "            'top: 0;' +\n",
       "            'z-index: 1;'\n",
       "    );\n",
       "\n",
       "    // Apply a ponyfill if ResizeObserver is not implemented by browser.\n",
       "    if (this.ResizeObserver === undefined) {\n",
       "        if (window.ResizeObserver !== undefined) {\n",
       "            this.ResizeObserver = window.ResizeObserver;\n",
       "        } else {\n",
       "            var obs = _JSXTOOLS_RESIZE_OBSERVER({});\n",
       "            this.ResizeObserver = obs.ResizeObserver;\n",
       "        }\n",
       "    }\n",
       "\n",
       "    this.resizeObserverInstance = new this.ResizeObserver(function (entries) {\n",
       "        var nentries = entries.length;\n",
       "        for (var i = 0; i < nentries; i++) {\n",
       "            var entry = entries[i];\n",
       "            var width, height;\n",
       "            if (entry.contentBoxSize) {\n",
       "                if (entry.contentBoxSize instanceof Array) {\n",
       "                    // Chrome 84 implements new version of spec.\n",
       "                    width = entry.contentBoxSize[0].inlineSize;\n",
       "                    height = entry.contentBoxSize[0].blockSize;\n",
       "                } else {\n",
       "                    // Firefox implements old version of spec.\n",
       "                    width = entry.contentBoxSize.inlineSize;\n",
       "                    height = entry.contentBoxSize.blockSize;\n",
       "                }\n",
       "            } else {\n",
       "                // Chrome <84 implements even older version of spec.\n",
       "                width = entry.contentRect.width;\n",
       "                height = entry.contentRect.height;\n",
       "            }\n",
       "\n",
       "            // Keep the size of the canvas and rubber band canvas in sync with\n",
       "            // the canvas container.\n",
       "            if (entry.devicePixelContentBoxSize) {\n",
       "                // Chrome 84 implements new version of spec.\n",
       "                canvas.setAttribute(\n",
       "                    'width',\n",
       "                    entry.devicePixelContentBoxSize[0].inlineSize\n",
       "                );\n",
       "                canvas.setAttribute(\n",
       "                    'height',\n",
       "                    entry.devicePixelContentBoxSize[0].blockSize\n",
       "                );\n",
       "            } else {\n",
       "                canvas.setAttribute('width', width * fig.ratio);\n",
       "                canvas.setAttribute('height', height * fig.ratio);\n",
       "            }\n",
       "            /* This rescales the canvas back to display pixels, so that it\n",
       "             * appears correct on HiDPI screens. */\n",
       "            canvas.style.width = width + 'px';\n",
       "            canvas.style.height = height + 'px';\n",
       "\n",
       "            rubberband_canvas.setAttribute('width', width);\n",
       "            rubberband_canvas.setAttribute('height', height);\n",
       "\n",
       "            // And update the size in Python. We ignore the initial 0/0 size\n",
       "            // that occurs as the element is placed into the DOM, which should\n",
       "            // otherwise not happen due to the minimum size styling.\n",
       "            if (fig.ws.readyState == 1 && width != 0 && height != 0) {\n",
       "                fig.request_resize(width, height);\n",
       "            }\n",
       "        }\n",
       "    });\n",
       "    this.resizeObserverInstance.observe(canvas_div);\n",
       "\n",
       "    function on_mouse_event_closure(name) {\n",
       "        /* User Agent sniffing is bad, but WebKit is busted:\n",
       "         * https://bugs.webkit.org/show_bug.cgi?id=144526\n",
       "         * https://bugs.webkit.org/show_bug.cgi?id=181818\n",
       "         * The worst that happens here is that they get an extra browser\n",
       "         * selection when dragging, if this check fails to catch them.\n",
       "         */\n",
       "        var UA = navigator.userAgent;\n",
       "        var isWebKit = /AppleWebKit/.test(UA) && !/Chrome/.test(UA);\n",
       "        if(isWebKit) {\n",
       "            return function (event) {\n",
       "                /* This prevents the web browser from automatically changing to\n",
       "                 * the text insertion cursor when the button is pressed. We\n",
       "                 * want to control all of the cursor setting manually through\n",
       "                 * the 'cursor' event from matplotlib */\n",
       "                event.preventDefault()\n",
       "                return fig.mouse_event(event, name);\n",
       "            };\n",
       "        } else {\n",
       "            return function (event) {\n",
       "                return fig.mouse_event(event, name);\n",
       "            };\n",
       "        }\n",
       "    }\n",
       "\n",
       "    canvas_div.addEventListener(\n",
       "        'mousedown',\n",
       "        on_mouse_event_closure('button_press')\n",
       "    );\n",
       "    canvas_div.addEventListener(\n",
       "        'mouseup',\n",
       "        on_mouse_event_closure('button_release')\n",
       "    );\n",
       "    canvas_div.addEventListener(\n",
       "        'dblclick',\n",
       "        on_mouse_event_closure('dblclick')\n",
       "    );\n",
       "    // Throttle sequential mouse events to 1 every 20ms.\n",
       "    canvas_div.addEventListener(\n",
       "        'mousemove',\n",
       "        on_mouse_event_closure('motion_notify')\n",
       "    );\n",
       "\n",
       "    canvas_div.addEventListener(\n",
       "        'mouseenter',\n",
       "        on_mouse_event_closure('figure_enter')\n",
       "    );\n",
       "    canvas_div.addEventListener(\n",
       "        'mouseleave',\n",
       "        on_mouse_event_closure('figure_leave')\n",
       "    );\n",
       "\n",
       "    canvas_div.addEventListener('wheel', function (event) {\n",
       "        if (event.deltaY < 0) {\n",
       "            event.step = 1;\n",
       "        } else {\n",
       "            event.step = -1;\n",
       "        }\n",
       "        on_mouse_event_closure('scroll')(event);\n",
       "    });\n",
       "\n",
       "    canvas_div.appendChild(canvas);\n",
       "    canvas_div.appendChild(rubberband_canvas);\n",
       "\n",
       "    this.rubberband_context = rubberband_canvas.getContext('2d');\n",
       "    this.rubberband_context.strokeStyle = '#000000';\n",
       "\n",
       "    this._resize_canvas = function (width, height, forward) {\n",
       "        if (forward) {\n",
       "            canvas_div.style.width = width + 'px';\n",
       "            canvas_div.style.height = height + 'px';\n",
       "        }\n",
       "    };\n",
       "\n",
       "    // Disable right mouse context menu.\n",
       "    canvas_div.addEventListener('contextmenu', function (_e) {\n",
       "        event.preventDefault();\n",
       "        return false;\n",
       "    });\n",
       "\n",
       "    function set_focus() {\n",
       "        canvas.focus();\n",
       "        canvas_div.focus();\n",
       "    }\n",
       "\n",
       "    window.setTimeout(set_focus, 100);\n",
       "};\n",
       "\n",
       "mpl.figure.prototype._init_toolbar = function () {\n",
       "    var fig = this;\n",
       "\n",
       "    var toolbar = document.createElement('div');\n",
       "    toolbar.classList = 'mpl-toolbar';\n",
       "    this.root.appendChild(toolbar);\n",
       "\n",
       "    function on_click_closure(name) {\n",
       "        return function (_event) {\n",
       "            return fig.toolbar_button_onclick(name);\n",
       "        };\n",
       "    }\n",
       "\n",
       "    function on_mouseover_closure(tooltip) {\n",
       "        return function (event) {\n",
       "            if (!event.currentTarget.disabled) {\n",
       "                return fig.toolbar_button_onmouseover(tooltip);\n",
       "            }\n",
       "        };\n",
       "    }\n",
       "\n",
       "    fig.buttons = {};\n",
       "    var buttonGroup = document.createElement('div');\n",
       "    buttonGroup.classList = 'mpl-button-group';\n",
       "    for (var toolbar_ind in mpl.toolbar_items) {\n",
       "        var name = mpl.toolbar_items[toolbar_ind][0];\n",
       "        var tooltip = mpl.toolbar_items[toolbar_ind][1];\n",
       "        var image = mpl.toolbar_items[toolbar_ind][2];\n",
       "        var method_name = mpl.toolbar_items[toolbar_ind][3];\n",
       "\n",
       "        if (!name) {\n",
       "            /* Instead of a spacer, we start a new button group. */\n",
       "            if (buttonGroup.hasChildNodes()) {\n",
       "                toolbar.appendChild(buttonGroup);\n",
       "            }\n",
       "            buttonGroup = document.createElement('div');\n",
       "            buttonGroup.classList = 'mpl-button-group';\n",
       "            continue;\n",
       "        }\n",
       "\n",
       "        var button = (fig.buttons[name] = document.createElement('button'));\n",
       "        button.classList = 'mpl-widget';\n",
       "        button.setAttribute('role', 'button');\n",
       "        button.setAttribute('aria-disabled', 'false');\n",
       "        button.addEventListener('click', on_click_closure(method_name));\n",
       "        button.addEventListener('mouseover', on_mouseover_closure(tooltip));\n",
       "\n",
       "        var icon_img = document.createElement('img');\n",
       "        icon_img.src = '_images/' + image + '.png';\n",
       "        icon_img.srcset = '_images/' + image + '_large.png 2x';\n",
       "        icon_img.alt = tooltip;\n",
       "        button.appendChild(icon_img);\n",
       "\n",
       "        buttonGroup.appendChild(button);\n",
       "    }\n",
       "\n",
       "    if (buttonGroup.hasChildNodes()) {\n",
       "        toolbar.appendChild(buttonGroup);\n",
       "    }\n",
       "\n",
       "    var fmt_picker = document.createElement('select');\n",
       "    fmt_picker.classList = 'mpl-widget';\n",
       "    toolbar.appendChild(fmt_picker);\n",
       "    this.format_dropdown = fmt_picker;\n",
       "\n",
       "    for (var ind in mpl.extensions) {\n",
       "        var fmt = mpl.extensions[ind];\n",
       "        var option = document.createElement('option');\n",
       "        option.selected = fmt === mpl.default_extension;\n",
       "        option.innerHTML = fmt;\n",
       "        fmt_picker.appendChild(option);\n",
       "    }\n",
       "\n",
       "    var status_bar = document.createElement('span');\n",
       "    status_bar.classList = 'mpl-message';\n",
       "    toolbar.appendChild(status_bar);\n",
       "    this.message = status_bar;\n",
       "};\n",
       "\n",
       "mpl.figure.prototype.request_resize = function (x_pixels, y_pixels) {\n",
       "    // Request matplotlib to resize the figure. Matplotlib will then trigger a resize in the client,\n",
       "    // which will in turn request a refresh of the image.\n",
       "    this.send_message('resize', { width: x_pixels, height: y_pixels });\n",
       "};\n",
       "\n",
       "mpl.figure.prototype.send_message = function (type, properties) {\n",
       "    properties['type'] = type;\n",
       "    properties['figure_id'] = this.id;\n",
       "    this.ws.send(JSON.stringify(properties));\n",
       "};\n",
       "\n",
       "mpl.figure.prototype.send_draw_message = function () {\n",
       "    if (!this.waiting) {\n",
       "        this.waiting = true;\n",
       "        this.ws.send(JSON.stringify({ type: 'draw', figure_id: this.id }));\n",
       "    }\n",
       "};\n",
       "\n",
       "mpl.figure.prototype.handle_save = function (fig, _msg) {\n",
       "    var format_dropdown = fig.format_dropdown;\n",
       "    var format = format_dropdown.options[format_dropdown.selectedIndex].value;\n",
       "    fig.ondownload(fig, format);\n",
       "};\n",
       "\n",
       "mpl.figure.prototype.handle_resize = function (fig, msg) {\n",
       "    var size = msg['size'];\n",
       "    if (size[0] !== fig.canvas.width || size[1] !== fig.canvas.height) {\n",
       "        fig._resize_canvas(size[0], size[1], msg['forward']);\n",
       "        fig.send_message('refresh', {});\n",
       "    }\n",
       "};\n",
       "\n",
       "mpl.figure.prototype.handle_rubberband = function (fig, msg) {\n",
       "    var x0 = msg['x0'] / fig.ratio;\n",
       "    var y0 = (fig.canvas.height - msg['y0']) / fig.ratio;\n",
       "    var x1 = msg['x1'] / fig.ratio;\n",
       "    var y1 = (fig.canvas.height - msg['y1']) / fig.ratio;\n",
       "    x0 = Math.floor(x0) + 0.5;\n",
       "    y0 = Math.floor(y0) + 0.5;\n",
       "    x1 = Math.floor(x1) + 0.5;\n",
       "    y1 = Math.floor(y1) + 0.5;\n",
       "    var min_x = Math.min(x0, x1);\n",
       "    var min_y = Math.min(y0, y1);\n",
       "    var width = Math.abs(x1 - x0);\n",
       "    var height = Math.abs(y1 - y0);\n",
       "\n",
       "    fig.rubberband_context.clearRect(\n",
       "        0,\n",
       "        0,\n",
       "        fig.canvas.width / fig.ratio,\n",
       "        fig.canvas.height / fig.ratio\n",
       "    );\n",
       "\n",
       "    fig.rubberband_context.strokeRect(min_x, min_y, width, height);\n",
       "};\n",
       "\n",
       "mpl.figure.prototype.handle_figure_label = function (fig, msg) {\n",
       "    // Updates the figure title.\n",
       "    fig.header.textContent = msg['label'];\n",
       "};\n",
       "\n",
       "mpl.figure.prototype.handle_cursor = function (fig, msg) {\n",
       "    fig.canvas_div.style.cursor = msg['cursor'];\n",
       "};\n",
       "\n",
       "mpl.figure.prototype.handle_message = function (fig, msg) {\n",
       "    fig.message.textContent = msg['message'];\n",
       "};\n",
       "\n",
       "mpl.figure.prototype.handle_draw = function (fig, _msg) {\n",
       "    // Request the server to send over a new figure.\n",
       "    fig.send_draw_message();\n",
       "};\n",
       "\n",
       "mpl.figure.prototype.handle_image_mode = function (fig, msg) {\n",
       "    fig.image_mode = msg['mode'];\n",
       "};\n",
       "\n",
       "mpl.figure.prototype.handle_history_buttons = function (fig, msg) {\n",
       "    for (var key in msg) {\n",
       "        if (!(key in fig.buttons)) {\n",
       "            continue;\n",
       "        }\n",
       "        fig.buttons[key].disabled = !msg[key];\n",
       "        fig.buttons[key].setAttribute('aria-disabled', !msg[key]);\n",
       "    }\n",
       "};\n",
       "\n",
       "mpl.figure.prototype.handle_navigate_mode = function (fig, msg) {\n",
       "    if (msg['mode'] === 'PAN') {\n",
       "        fig.buttons['Pan'].classList.add('active');\n",
       "        fig.buttons['Zoom'].classList.remove('active');\n",
       "    } else if (msg['mode'] === 'ZOOM') {\n",
       "        fig.buttons['Pan'].classList.remove('active');\n",
       "        fig.buttons['Zoom'].classList.add('active');\n",
       "    } else {\n",
       "        fig.buttons['Pan'].classList.remove('active');\n",
       "        fig.buttons['Zoom'].classList.remove('active');\n",
       "    }\n",
       "};\n",
       "\n",
       "mpl.figure.prototype.updated_canvas_event = function () {\n",
       "    // Called whenever the canvas gets updated.\n",
       "    this.send_message('ack', {});\n",
       "};\n",
       "\n",
       "// A function to construct a web socket function for onmessage handling.\n",
       "// Called in the figure constructor.\n",
       "mpl.figure.prototype._make_on_message_function = function (fig) {\n",
       "    return function socket_on_message(evt) {\n",
       "        if (evt.data instanceof Blob) {\n",
       "            var img = evt.data;\n",
       "            if (img.type !== 'image/png') {\n",
       "                /* FIXME: We get \"Resource interpreted as Image but\n",
       "                 * transferred with MIME type text/plain:\" errors on\n",
       "                 * Chrome.  But how to set the MIME type?  It doesn't seem\n",
       "                 * to be part of the websocket stream */\n",
       "                img.type = 'image/png';\n",
       "            }\n",
       "\n",
       "            /* Free the memory for the previous frames */\n",
       "            if (fig.imageObj.src) {\n",
       "                (window.URL || window.webkitURL).revokeObjectURL(\n",
       "                    fig.imageObj.src\n",
       "                );\n",
       "            }\n",
       "\n",
       "            fig.imageObj.src = (window.URL || window.webkitURL).createObjectURL(\n",
       "                img\n",
       "            );\n",
       "            fig.updated_canvas_event();\n",
       "            fig.waiting = false;\n",
       "            return;\n",
       "        } else if (\n",
       "            typeof evt.data === 'string' &&\n",
       "            evt.data.slice(0, 21) === 'data:image/png;base64'\n",
       "        ) {\n",
       "            fig.imageObj.src = evt.data;\n",
       "            fig.updated_canvas_event();\n",
       "            fig.waiting = false;\n",
       "            return;\n",
       "        }\n",
       "\n",
       "        var msg = JSON.parse(evt.data);\n",
       "        var msg_type = msg['type'];\n",
       "\n",
       "        // Call the  \"handle_{type}\" callback, which takes\n",
       "        // the figure and JSON message as its only arguments.\n",
       "        try {\n",
       "            var callback = fig['handle_' + msg_type];\n",
       "        } catch (e) {\n",
       "            console.log(\n",
       "                \"No handler for the '\" + msg_type + \"' message type: \",\n",
       "                msg\n",
       "            );\n",
       "            return;\n",
       "        }\n",
       "\n",
       "        if (callback) {\n",
       "            try {\n",
       "                // console.log(\"Handling '\" + msg_type + \"' message: \", msg);\n",
       "                callback(fig, msg);\n",
       "            } catch (e) {\n",
       "                console.log(\n",
       "                    \"Exception inside the 'handler_\" + msg_type + \"' callback:\",\n",
       "                    e,\n",
       "                    e.stack,\n",
       "                    msg\n",
       "                );\n",
       "            }\n",
       "        }\n",
       "    };\n",
       "};\n",
       "\n",
       "function getModifiers(event) {\n",
       "    var mods = [];\n",
       "    if (event.ctrlKey) {\n",
       "        mods.push('ctrl');\n",
       "    }\n",
       "    if (event.altKey) {\n",
       "        mods.push('alt');\n",
       "    }\n",
       "    if (event.shiftKey) {\n",
       "        mods.push('shift');\n",
       "    }\n",
       "    if (event.metaKey) {\n",
       "        mods.push('meta');\n",
       "    }\n",
       "    return mods;\n",
       "}\n",
       "\n",
       "/*\n",
       " * return a copy of an object with only non-object keys\n",
       " * we need this to avoid circular references\n",
       " * https://stackoverflow.com/a/24161582/3208463\n",
       " */\n",
       "function simpleKeys(original) {\n",
       "    return Object.keys(original).reduce(function (obj, key) {\n",
       "        if (typeof original[key] !== 'object') {\n",
       "            obj[key] = original[key];\n",
       "        }\n",
       "        return obj;\n",
       "    }, {});\n",
       "}\n",
       "\n",
       "mpl.figure.prototype.mouse_event = function (event, name) {\n",
       "    if (name === 'button_press') {\n",
       "        this.canvas.focus();\n",
       "        this.canvas_div.focus();\n",
       "    }\n",
       "\n",
       "    // from https://stackoverflow.com/q/1114465\n",
       "    var boundingRect = this.canvas.getBoundingClientRect();\n",
       "    var x = (event.clientX - boundingRect.left) * this.ratio;\n",
       "    var y = (event.clientY - boundingRect.top) * this.ratio;\n",
       "\n",
       "    this.send_message(name, {\n",
       "        x: x,\n",
       "        y: y,\n",
       "        button: event.button,\n",
       "        step: event.step,\n",
       "        modifiers: getModifiers(event),\n",
       "        guiEvent: simpleKeys(event),\n",
       "    });\n",
       "\n",
       "    return false;\n",
       "};\n",
       "\n",
       "mpl.figure.prototype._key_event_extra = function (_event, _name) {\n",
       "    // Handle any extra behaviour associated with a key event\n",
       "};\n",
       "\n",
       "mpl.figure.prototype.key_event = function (event, name) {\n",
       "    // Prevent repeat events\n",
       "    if (name === 'key_press') {\n",
       "        if (event.key === this._key) {\n",
       "            return;\n",
       "        } else {\n",
       "            this._key = event.key;\n",
       "        }\n",
       "    }\n",
       "    if (name === 'key_release') {\n",
       "        this._key = null;\n",
       "    }\n",
       "\n",
       "    var value = '';\n",
       "    if (event.ctrlKey && event.key !== 'Control') {\n",
       "        value += 'ctrl+';\n",
       "    }\n",
       "    else if (event.altKey && event.key !== 'Alt') {\n",
       "        value += 'alt+';\n",
       "    }\n",
       "    else if (event.shiftKey && event.key !== 'Shift') {\n",
       "        value += 'shift+';\n",
       "    }\n",
       "\n",
       "    value += 'k' + event.key;\n",
       "\n",
       "    this._key_event_extra(event, name);\n",
       "\n",
       "    this.send_message(name, { key: value, guiEvent: simpleKeys(event) });\n",
       "    return false;\n",
       "};\n",
       "\n",
       "mpl.figure.prototype.toolbar_button_onclick = function (name) {\n",
       "    if (name === 'download') {\n",
       "        this.handle_save(this, null);\n",
       "    } else {\n",
       "        this.send_message('toolbar_button', { name: name });\n",
       "    }\n",
       "};\n",
       "\n",
       "mpl.figure.prototype.toolbar_button_onmouseover = function (tooltip) {\n",
       "    this.message.textContent = tooltip;\n",
       "};\n",
       "\n",
       "///////////////// REMAINING CONTENT GENERATED BY embed_js.py /////////////////\n",
       "// prettier-ignore\n",
       "var _JSXTOOLS_RESIZE_OBSERVER=function(A){var t,i=new WeakMap,n=new WeakMap,a=new WeakMap,r=new WeakMap,o=new Set;function s(e){if(!(this instanceof s))throw new TypeError(\"Constructor requires 'new' operator\");i.set(this,e)}function h(){throw new TypeError(\"Function is not a constructor\")}function c(e,t,i,n){e=0 in arguments?Number(arguments[0]):0,t=1 in arguments?Number(arguments[1]):0,i=2 in arguments?Number(arguments[2]):0,n=3 in arguments?Number(arguments[3]):0,this.right=(this.x=this.left=e)+(this.width=i),this.bottom=(this.y=this.top=t)+(this.height=n),Object.freeze(this)}function d(){t=requestAnimationFrame(d);var s=new WeakMap,p=new Set;o.forEach((function(t){r.get(t).forEach((function(i){var r=t instanceof window.SVGElement,o=a.get(t),d=r?0:parseFloat(o.paddingTop),f=r?0:parseFloat(o.paddingRight),l=r?0:parseFloat(o.paddingBottom),u=r?0:parseFloat(o.paddingLeft),g=r?0:parseFloat(o.borderTopWidth),m=r?0:parseFloat(o.borderRightWidth),w=r?0:parseFloat(o.borderBottomWidth),b=u+f,F=d+l,v=(r?0:parseFloat(o.borderLeftWidth))+m,W=g+w,y=r?0:t.offsetHeight-W-t.clientHeight,E=r?0:t.offsetWidth-v-t.clientWidth,R=b+v,z=F+W,M=r?t.width:parseFloat(o.width)-R-E,O=r?t.height:parseFloat(o.height)-z-y;if(n.has(t)){var k=n.get(t);if(k[0]===M&&k[1]===O)return}n.set(t,[M,O]);var S=Object.create(h.prototype);S.target=t,S.contentRect=new c(u,d,M,O),s.has(i)||(s.set(i,[]),p.add(i)),s.get(i).push(S)}))})),p.forEach((function(e){i.get(e).call(e,s.get(e),e)}))}return s.prototype.observe=function(i){if(i instanceof window.Element){r.has(i)||(r.set(i,new Set),o.add(i),a.set(i,window.getComputedStyle(i)));var n=r.get(i);n.has(this)||n.add(this),cancelAnimationFrame(t),t=requestAnimationFrame(d)}},s.prototype.unobserve=function(i){if(i instanceof window.Element&&r.has(i)){var n=r.get(i);n.has(this)&&(n.delete(this),n.size||(r.delete(i),o.delete(i))),n.size||r.delete(i),o.size||cancelAnimationFrame(t)}},A.DOMRectReadOnly=c,A.ResizeObserver=s,A.ResizeObserverEntry=h,A}; // eslint-disable-line\n",
       "mpl.toolbar_items = [[\"Home\", \"Reset original view\", \"fa fa-home\", \"home\"], [\"Back\", \"Back to previous view\", \"fa fa-arrow-left\", \"back\"], [\"Forward\", \"Forward to next view\", \"fa fa-arrow-right\", \"forward\"], [\"\", \"\", \"\", \"\"], [\"Pan\", \"Left button pans, Right button zooms\\nx/y fixes axis, CTRL fixes aspect\", \"fa fa-arrows\", \"pan\"], [\"Zoom\", \"Zoom to rectangle\\nx/y fixes axis\", \"fa fa-square-o\", \"zoom\"], [\"\", \"\", \"\", \"\"], [\"Download\", \"Download plot\", \"fa fa-floppy-o\", \"download\"]];\n",
       "\n",
       "mpl.extensions = [\"eps\", \"jpeg\", \"pgf\", \"pdf\", \"png\", \"ps\", \"raw\", \"svg\", \"tif\", \"webp\"];\n",
       "\n",
       "mpl.default_extension = \"png\";/* global mpl */\n",
       "\n",
       "var comm_websocket_adapter = function (comm) {\n",
       "    // Create a \"websocket\"-like object which calls the given IPython comm\n",
       "    // object with the appropriate methods. Currently this is a non binary\n",
       "    // socket, so there is still some room for performance tuning.\n",
       "    var ws = {};\n",
       "\n",
       "    ws.binaryType = comm.kernel.ws.binaryType;\n",
       "    ws.readyState = comm.kernel.ws.readyState;\n",
       "    function updateReadyState(_event) {\n",
       "        if (comm.kernel.ws) {\n",
       "            ws.readyState = comm.kernel.ws.readyState;\n",
       "        } else {\n",
       "            ws.readyState = 3; // Closed state.\n",
       "        }\n",
       "    }\n",
       "    comm.kernel.ws.addEventListener('open', updateReadyState);\n",
       "    comm.kernel.ws.addEventListener('close', updateReadyState);\n",
       "    comm.kernel.ws.addEventListener('error', updateReadyState);\n",
       "\n",
       "    ws.close = function () {\n",
       "        comm.close();\n",
       "    };\n",
       "    ws.send = function (m) {\n",
       "        //console.log('sending', m);\n",
       "        comm.send(m);\n",
       "    };\n",
       "    // Register the callback with on_msg.\n",
       "    comm.on_msg(function (msg) {\n",
       "        //console.log('receiving', msg['content']['data'], msg);\n",
       "        var data = msg['content']['data'];\n",
       "        if (data['blob'] !== undefined) {\n",
       "            data = {\n",
       "                data: new Blob(msg['buffers'], { type: data['blob'] }),\n",
       "            };\n",
       "        }\n",
       "        // Pass the mpl event to the overridden (by mpl) onmessage function.\n",
       "        ws.onmessage(data);\n",
       "    });\n",
       "    return ws;\n",
       "};\n",
       "\n",
       "mpl.mpl_figure_comm = function (comm, msg) {\n",
       "    // This is the function which gets called when the mpl process\n",
       "    // starts-up an IPython Comm through the \"matplotlib\" channel.\n",
       "\n",
       "    var id = msg.content.data.id;\n",
       "    // Get hold of the div created by the display call when the Comm\n",
       "    // socket was opened in Python.\n",
       "    var element = document.getElementById(id);\n",
       "    var ws_proxy = comm_websocket_adapter(comm);\n",
       "\n",
       "    function ondownload(figure, _format) {\n",
       "        window.open(figure.canvas.toDataURL());\n",
       "    }\n",
       "\n",
       "    var fig = new mpl.figure(id, ws_proxy, ondownload, element);\n",
       "\n",
       "    // Call onopen now - mpl needs it, as it is assuming we've passed it a real\n",
       "    // web socket which is closed, not our websocket->open comm proxy.\n",
       "    ws_proxy.onopen();\n",
       "\n",
       "    fig.parent_element = element;\n",
       "    fig.cell_info = mpl.find_output_cell(\"<div id='\" + id + \"'></div>\");\n",
       "    if (!fig.cell_info) {\n",
       "        console.error('Failed to find cell for figure', id, fig);\n",
       "        return;\n",
       "    }\n",
       "    fig.cell_info[0].output_area.element.on(\n",
       "        'cleared',\n",
       "        { fig: fig },\n",
       "        fig._remove_fig_handler\n",
       "    );\n",
       "};\n",
       "\n",
       "mpl.figure.prototype.handle_close = function (fig, msg) {\n",
       "    var width = fig.canvas.width / fig.ratio;\n",
       "    fig.cell_info[0].output_area.element.off(\n",
       "        'cleared',\n",
       "        fig._remove_fig_handler\n",
       "    );\n",
       "    fig.resizeObserverInstance.unobserve(fig.canvas_div);\n",
       "\n",
       "    // Update the output cell to use the data from the current canvas.\n",
       "    fig.push_to_output();\n",
       "    var dataURL = fig.canvas.toDataURL();\n",
       "    // Re-enable the keyboard manager in IPython - without this line, in FF,\n",
       "    // the notebook keyboard shortcuts fail.\n",
       "    IPython.keyboard_manager.enable();\n",
       "    fig.parent_element.innerHTML =\n",
       "        '<img src=\"' + dataURL + '\" width=\"' + width + '\">';\n",
       "    fig.close_ws(fig, msg);\n",
       "};\n",
       "\n",
       "mpl.figure.prototype.close_ws = function (fig, msg) {\n",
       "    fig.send_message('closing', msg);\n",
       "    // fig.ws.close()\n",
       "};\n",
       "\n",
       "mpl.figure.prototype.push_to_output = function (_remove_interactive) {\n",
       "    // Turn the data on the canvas into data in the output cell.\n",
       "    var width = this.canvas.width / this.ratio;\n",
       "    var dataURL = this.canvas.toDataURL();\n",
       "    this.cell_info[1]['text/html'] =\n",
       "        '<img src=\"' + dataURL + '\" width=\"' + width + '\">';\n",
       "};\n",
       "\n",
       "mpl.figure.prototype.updated_canvas_event = function () {\n",
       "    // Tell IPython that the notebook contents must change.\n",
       "    IPython.notebook.set_dirty(true);\n",
       "    this.send_message('ack', {});\n",
       "    var fig = this;\n",
       "    // Wait a second, then push the new image to the DOM so\n",
       "    // that it is saved nicely (might be nice to debounce this).\n",
       "    setTimeout(function () {\n",
       "        fig.push_to_output();\n",
       "    }, 1000);\n",
       "};\n",
       "\n",
       "mpl.figure.prototype._init_toolbar = function () {\n",
       "    var fig = this;\n",
       "\n",
       "    var toolbar = document.createElement('div');\n",
       "    toolbar.classList = 'btn-toolbar';\n",
       "    this.root.appendChild(toolbar);\n",
       "\n",
       "    function on_click_closure(name) {\n",
       "        return function (_event) {\n",
       "            return fig.toolbar_button_onclick(name);\n",
       "        };\n",
       "    }\n",
       "\n",
       "    function on_mouseover_closure(tooltip) {\n",
       "        return function (event) {\n",
       "            if (!event.currentTarget.disabled) {\n",
       "                return fig.toolbar_button_onmouseover(tooltip);\n",
       "            }\n",
       "        };\n",
       "    }\n",
       "\n",
       "    fig.buttons = {};\n",
       "    var buttonGroup = document.createElement('div');\n",
       "    buttonGroup.classList = 'btn-group';\n",
       "    var button;\n",
       "    for (var toolbar_ind in mpl.toolbar_items) {\n",
       "        var name = mpl.toolbar_items[toolbar_ind][0];\n",
       "        var tooltip = mpl.toolbar_items[toolbar_ind][1];\n",
       "        var image = mpl.toolbar_items[toolbar_ind][2];\n",
       "        var method_name = mpl.toolbar_items[toolbar_ind][3];\n",
       "\n",
       "        if (!name) {\n",
       "            /* Instead of a spacer, we start a new button group. */\n",
       "            if (buttonGroup.hasChildNodes()) {\n",
       "                toolbar.appendChild(buttonGroup);\n",
       "            }\n",
       "            buttonGroup = document.createElement('div');\n",
       "            buttonGroup.classList = 'btn-group';\n",
       "            continue;\n",
       "        }\n",
       "\n",
       "        button = fig.buttons[name] = document.createElement('button');\n",
       "        button.classList = 'btn btn-default';\n",
       "        button.href = '#';\n",
       "        button.title = name;\n",
       "        button.innerHTML = '<i class=\"fa ' + image + ' fa-lg\"></i>';\n",
       "        button.addEventListener('click', on_click_closure(method_name));\n",
       "        button.addEventListener('mouseover', on_mouseover_closure(tooltip));\n",
       "        buttonGroup.appendChild(button);\n",
       "    }\n",
       "\n",
       "    if (buttonGroup.hasChildNodes()) {\n",
       "        toolbar.appendChild(buttonGroup);\n",
       "    }\n",
       "\n",
       "    // Add the status bar.\n",
       "    var status_bar = document.createElement('span');\n",
       "    status_bar.classList = 'mpl-message pull-right';\n",
       "    toolbar.appendChild(status_bar);\n",
       "    this.message = status_bar;\n",
       "\n",
       "    // Add the close button to the window.\n",
       "    var buttongrp = document.createElement('div');\n",
       "    buttongrp.classList = 'btn-group inline pull-right';\n",
       "    button = document.createElement('button');\n",
       "    button.classList = 'btn btn-mini btn-primary';\n",
       "    button.href = '#';\n",
       "    button.title = 'Stop Interaction';\n",
       "    button.innerHTML = '<i class=\"fa fa-power-off icon-remove icon-large\"></i>';\n",
       "    button.addEventListener('click', function (_evt) {\n",
       "        fig.handle_close(fig, {});\n",
       "    });\n",
       "    button.addEventListener(\n",
       "        'mouseover',\n",
       "        on_mouseover_closure('Stop Interaction')\n",
       "    );\n",
       "    buttongrp.appendChild(button);\n",
       "    var titlebar = this.root.querySelector('.ui-dialog-titlebar');\n",
       "    titlebar.insertBefore(buttongrp, titlebar.firstChild);\n",
       "};\n",
       "\n",
       "mpl.figure.prototype._remove_fig_handler = function (event) {\n",
       "    var fig = event.data.fig;\n",
       "    if (event.target !== this) {\n",
       "        // Ignore bubbled events from children.\n",
       "        return;\n",
       "    }\n",
       "    fig.close_ws(fig, {});\n",
       "};\n",
       "\n",
       "mpl.figure.prototype._root_extra_style = function (el) {\n",
       "    el.style.boxSizing = 'content-box'; // override notebook setting of border-box.\n",
       "};\n",
       "\n",
       "mpl.figure.prototype._canvas_extra_style = function (el) {\n",
       "    // this is important to make the div 'focusable\n",
       "    el.setAttribute('tabindex', 0);\n",
       "    // reach out to IPython and tell the keyboard manager to turn it's self\n",
       "    // off when our div gets focus\n",
       "\n",
       "    // location in version 3\n",
       "    if (IPython.notebook.keyboard_manager) {\n",
       "        IPython.notebook.keyboard_manager.register_events(el);\n",
       "    } else {\n",
       "        // location in version 2\n",
       "        IPython.keyboard_manager.register_events(el);\n",
       "    }\n",
       "};\n",
       "\n",
       "mpl.figure.prototype._key_event_extra = function (event, _name) {\n",
       "    // Check for shift+enter\n",
       "    if (event.shiftKey && event.which === 13) {\n",
       "        this.canvas_div.blur();\n",
       "        // select the cell after this one\n",
       "        var index = IPython.notebook.find_cell_index(this.cell_info[0]);\n",
       "        IPython.notebook.select(index + 1);\n",
       "    }\n",
       "};\n",
       "\n",
       "mpl.figure.prototype.handle_save = function (fig, _msg) {\n",
       "    fig.ondownload(fig, null);\n",
       "};\n",
       "\n",
       "mpl.find_output_cell = function (html_output) {\n",
       "    // Return the cell and output element which can be found *uniquely* in the notebook.\n",
       "    // Note - this is a bit hacky, but it is done because the \"notebook_saving.Notebook\"\n",
       "    // IPython event is triggered only after the cells have been serialised, which for\n",
       "    // our purposes (turning an active figure into a static one), is too late.\n",
       "    var cells = IPython.notebook.get_cells();\n",
       "    var ncells = cells.length;\n",
       "    for (var i = 0; i < ncells; i++) {\n",
       "        var cell = cells[i];\n",
       "        if (cell.cell_type === 'code') {\n",
       "            for (var j = 0; j < cell.output_area.outputs.length; j++) {\n",
       "                var data = cell.output_area.outputs[j];\n",
       "                if (data.data) {\n",
       "                    // IPython >= 3 moved mimebundle to data attribute of output\n",
       "                    data = data.data;\n",
       "                }\n",
       "                if (data['text/html'] === html_output) {\n",
       "                    return [cell, data, j];\n",
       "                }\n",
       "            }\n",
       "        }\n",
       "    }\n",
       "};\n",
       "\n",
       "// Register the function which deals with the matplotlib target/channel.\n",
       "// The kernel may be null if the page has been refreshed.\n",
       "if (IPython.notebook.kernel !== null) {\n",
       "    IPython.notebook.kernel.comm_manager.register_target(\n",
       "        'matplotlib',\n",
       "        mpl.mpl_figure_comm\n",
       "    );\n",
       "}\n"
      ],
      "text/plain": [
       "<IPython.core.display.Javascript object>"
      ]
     },
     "metadata": {},
     "output_type": "display_data"
    },
    {
     "data": {
      "text/html": [
       "<img src=\"data:image/png;base64,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\" width=\"640\">"
      ],
      "text/plain": [
       "<IPython.core.display.HTML object>"
      ]
     },
     "metadata": {},
     "output_type": "display_data"
    }
   ],
   "source": [
    "# Define the equation\n",
    "def dX_dt(X, t):\n",
    "    x1, x2 = X\n",
    "    return [-0.5*x1+x2, -x1-0.5*x2]\n",
    "\n",
    "# Initial conditions\n",
    "X0 = [-2, -3]\n",
    "\n",
    "# Set up the time samples\n",
    "t = np.linspace(0, 5, 100)\n",
    "\n",
    "# Solve\n",
    "Xsol = odeint(dX_dt, X0, t)\n",
    "\n",
    "# Plot the (x1, x2) coordinates of the solution\n",
    "plt.plot(Xsol[:, 0], Xsol[:, 1], 'b', label='X(t)')\n",
    "plt.legend(loc='best')\n",
    "plt.xlabel('x1')\n",
    "plt.ylabel('x2')\n",
    "plt.grid()"
   ]
  },
  {
   "cell_type": "markdown",
   "metadata": {
    "deletable": false,
    "editable": false,
    "nbgrader": {
     "cell_type": "markdown",
     "checksum": "187bd1e313c27e7c8e6f94b33d730306",
     "grade": false,
     "grade_id": "Lab1_S4_task1",
     "locked": true,
     "schema_version": 3,
     "solution": false,
     "task": false
    }
   },
   "source": [
    "<span class=\"label label-danger\">Task</span> Try adjusting the values in `np.linspace(0, 5, 100)` to see the effect on the plot. First try `np.linspace(0, 50, 100)`, then see if you can find a good choice of time interval and number of steps so that the plot gives a good representation of the behaviour."
   ]
  },
  {
   "cell_type": "markdown",
   "metadata": {
    "deletable": false,
    "editable": false,
    "nbgrader": {
     "cell_type": "markdown",
     "checksum": "ea88d7212fe0218a1b7c751ff344ccd2",
     "grade": false,
     "grade_id": "Lab1_S4_02",
     "locked": true,
     "schema_version": 3,
     "solution": false,
     "task": false
    }
   },
   "source": [
    "Here we add several different trajectories to the plot, each with a different initial condition:"
   ]
  },
  {
   "cell_type": "code",
   "execution_count": 5,
   "metadata": {},
   "outputs": [],
   "source": [
    "# Define the equation\n",
    "def dX_dt(X, t):\n",
    "    x1, x2 = X\n",
    "    return [-0.5*x1+x2, -x1-0.5*x2]\n",
    "\n",
    "# Set up the time samples\n",
    "t = np.linspace(0, 50, 1000)\n",
    "\n",
    "for x0 in np.arange(-2,3):\n",
    "    # Initial conditions\n",
    "    X0 = [x0, -3]\n",
    "    \n",
    "    # Solve\n",
    "    Xsol = odeint(dX_dt, X0, t)\n",
    "    \n",
    "    # Plot the (x1, x2) coordinates of the solution\n",
    "    plt.plot(Xsol[:, 0], Xsol[:, 1])\n",
    "\n",
    "plt.xlabel('x1')\n",
    "plt.ylabel('x2')\n",
    "plt.grid()"
   ]
  },
  {
   "cell_type": "markdown",
   "metadata": {
    "deletable": false,
    "editable": false,
    "nbgrader": {
     "cell_type": "markdown",
     "checksum": "4bef33e4d0c94d0aeb7d396be03d26a3",
     "grade": false,
     "grade_id": "Lab1_S4_E1",
     "locked": true,
     "schema_version": 3,
     "solution": false,
     "task": false
    }
   },
   "source": [
    "<div class=\"alert alert-info\">\n",
    "    <h3>Exercise 4.1</h3>\n",
    "    <p>Use a similar method to show particular solutions of $$\\mathbf{x}'=\\begin{pmatrix}-3 & \\sqrt{2}\\\\ \\sqrt{2} & -2\\end{pmatrix}\\mathbf{x},$$ with initial conditions $x_1=2$ and $x_2\\in\\{-3, -2.5, \\ldots, 1.5, 2\\}$. (Note: this is replicating some features of Figure 7.5.4 from p402 of Boyce &amp; DiPrima.)</p>\n",
    "</div>"
   ]
  },
  {
   "cell_type": "code",
   "execution_count": null,
   "metadata": {
    "deletable": false,
    "nbgrader": {
     "cell_type": "code",
     "checksum": "88e6853439c5a4b5f05f7a3aa377c2d4",
     "grade": false,
     "grade_id": "Lab1_S4_E1_answer",
     "locked": false,
     "schema_version": 3,
     "solution": true,
     "task": false
    }
   },
   "outputs": [],
   "source": [
    "# Your code here.\n",
    "#To pass the autograding, you should define the equation in a function called dX_dt (as above).\n",
    "\n",
    "\n",
    "# YOUR CODE HERE\n",
    "raise NotImplementedError()"
   ]
  },
  {
   "cell_type": "code",
   "execution_count": null,
   "metadata": {
    "deletable": false,
    "editable": false,
    "nbgrader": {
     "cell_type": "code",
     "checksum": "9b26d5f0d44adbd4cda27c6966885ecc",
     "grade": true,
     "grade_id": "Lab1_S4_E1_test",
     "locked": true,
     "points": 1,
     "schema_version": 3,
     "solution": false,
     "task": false
    }
   },
   "outputs": [],
   "source": [
    "# Autograder test\n",
    "assert dX_dt([0,0],0) == [0,0]\n",
    "assert list(map(lambda x: np.round(x,3), dX_dt([2,2],0))) == [-3.172, -1.172]\n",
    "print(\"Success: your ODE function seems to match!\")\n"
   ]
  },
  {
   "cell_type": "markdown",
   "metadata": {
    "deletable": false,
    "editable": false,
    "nbgrader": {
     "cell_type": "markdown",
     "checksum": "ccfa94d7cb3026df262420989e5d8196",
     "grade": false,
     "grade_id": "Lab1_S4_03",
     "locked": true,
     "schema_version": 3,
     "solution": false,
     "task": false
    }
   },
   "source": [
    "We will continue to develop these methods in the next couple of labs, so that ultimately we can produce informative phase portraits to help our understanding of the differential equations in the course."
   ]
  }
 ],
 "metadata": {
  "kernelspec": {
   "display_name": "Python 3 (ipykernel)",
   "language": "python",
   "name": "python3"
  },
  "language_info": {
   "codemirror_mode": {
    "name": "ipython",
    "version": 3
   },
   "file_extension": ".py",
   "mimetype": "text/x-python",
   "name": "python",
   "nbconvert_exporter": "python",
   "pygments_lexer": "ipython3",
   "version": "3.9.13"
  }
 },
 "nbformat": 4,
 "nbformat_minor": 2
}
