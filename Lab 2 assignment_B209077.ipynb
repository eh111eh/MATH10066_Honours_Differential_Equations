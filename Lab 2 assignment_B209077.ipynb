{
 "cells": [
  {
   "cell_type": "markdown",
   "metadata": {},
   "source": [
    "# Lab Assignment 2\n",
    "\n"
   ]
  },
  {
   "cell_type": "markdown",
   "metadata": {},
   "source": [
    "### Hwayeon Kang, s2245661"
   ]
  },
  {
   "cell_type": "markdown",
   "metadata": {},
   "source": [
    "## Presentation and coding style (3 marks)\n",
    "\n",
    "In this assignment, some marks are allocated to your coding style and presentation. Try to make your code more readable using the tips given in your computer lab 2. Make sure your figures have good quality, right size, good range and proper labels."
   ]
  },
  {
   "cell_type": "markdown",
   "metadata": {},
   "source": [
    "## Task 1 (4 marks)\n",
    "\n",
    "In this task we try to use several method from Lab 2 to solve the initial value problem \n",
    "\n",
    "\\begin{equation}\n",
    "y' = 4t-3y, \\quad y(0)=1,\n",
    "\\end{equation}\n",
    "\n",
    "Set the step size to $h = 0.05$ and numerically solve this ODE from $t=0$ to $0.5$ using the following methods:\n",
    "\n",
    "- Forward Euler \n",
    "\n",
    "- Adams–Bashforth order 2\n",
    "\n",
    "- Adams–Bashforth order 3 (we did not code this method in the computer lab, but you can find the formula on [this wikipedia page](https://en.wikipedia.org/wiki/Linear_multistep_method)). For this method, you need to build the very first two steps using other methods. For the first step, use the Euler scheme. For the second step, use Adams–Bashforth order 2. \n",
    "\n",
    "\n",
    "Plot the three different approximations, and display the values in a table."
   ]
  },
  {
   "cell_type": "code",
   "execution_count": 1,
   "metadata": {},
   "outputs": [],
   "source": [
    "# Import packages\n",
    "import math\n",
    "import numpy as np\n",
    "import matplotlib.pyplot as plt\n",
    "import pandas as pd\n",
    "from pandas import DataFrame\n",
    "from inspect import signature"
   ]
  },
  {
   "cell_type": "code",
   "execution_count": 2,
   "metadata": {},
   "outputs": [],
   "source": [
    "#  Define the function in the RHS of the ODE given in the question\n",
    "def f(t, y):\n",
    "    return 4 * t - 3 * y\n",
    "\n",
    "# Euler method\n",
    "def ode_Euler(func, times, y0):\n",
    "    times = np.array(times)\n",
    "    y0 = np.array(y0)\n",
    "    n = y0.size       # the dimension of ODE \n",
    "    nT = times.size   # the number of time steps \n",
    "    y = np.zeros([nT,n])\n",
    "    y[0, :] = y0\n",
    "    # loop for timesteps\n",
    "    for k in range(nT-1):\n",
    "        y[k+1, :] = y[k, :] + (times[k+1]-times[k]) * func(times[k], y[k, :])\n",
    "    return y\n",
    "\n",
    "# Adams-Bashforth 2 method\n",
    "def ode_AB2(func, initialTime, finalTime, nSteps, y0):\n",
    "    y0 = np.array(y0)\n",
    "    n = y0.size       # the dimension of ODE \n",
    "    dt = (finalTime - initialTime) / nSteps\n",
    "    times = np.linspace(initialTime, finalTime, nSteps + 1)\n",
    "    y = np.zeros([nSteps + 1, n])\n",
    "    y[0,:] = y0\n",
    "    # First step using Euler\n",
    "    y[1,:] = y[0,:] + dt * func(times[0], y[0, :])\n",
    "    # Other steps using Adams-Bashforth 2\n",
    "    for k in range(1, nSteps):\n",
    "        y[k+1,:] = y[k,:] + dt * (1.5 * func(times[k], y[k,:]) - 0.5 * func(times[k-1], y[k-1,:]))\n",
    "    return y, times\n",
    "\n",
    "# Adams-Bashforth 3 method (using Euler and AB2 for initial steps)\n",
    "def ode_AB3(func, initialTime, finalTime, nSteps, y0):\n",
    "    y0 = np.array(y0)\n",
    "    n = y0.size       # the dimension of ODE \n",
    "    dt = (finalTime - initialTime) / nSteps\n",
    "    times = np.linspace(initialTime, finalTime, nSteps + 1)\n",
    "    y = np.zeros([nSteps + 1, n])\n",
    "    y[0,:] = y0\n",
    "    # First step using Euler\n",
    "    y[1,:] = y[0,:] + dt * func(times[0], y[0, :])\n",
    "    # Second step using Adams-Bashforth 2\n",
    "    y[2,:] = y[1,:] + dt * (1.5 * func(times[1], y[1,:]) - 0.5 * func(times[0], y[0,:]))\n",
    "    # Adams-Bashforth 3 for the rest of the steps\n",
    "    for k in range(2, nSteps):\n",
    "        y[k+1,:] = y[k,:] + dt * (23 * func(times[k], y[k,:]) - 16 * func(times[k-1], y[k-1,:]) + 5 * func(times[k-2], y[k-2,:])) / 12\n",
    "    return y, times"
   ]
  },
  {
   "cell_type": "code",
   "execution_count": 3,
   "metadata": {},
   "outputs": [],
   "source": [
    "# Time setup and initial condition\n",
    "h = 0.05\n",
    "initialTime = 0\n",
    "finalTime = 0.5\n",
    "nSteps = int((finalTime - initialTime) / h)\n",
    "t = np.linspace(initialTime, finalTime, nSteps + 1)\n",
    "y0 = 1\n",
    "\n",
    "# Solve using the three methods\n",
    "y_euler = ode_Euler(f, t, y0)\n",
    "y_ab2, t_ab2 = ode_AB2(f, initialTime, finalTime, nSteps, y0)\n",
    "y_ab3, t_ab3 = ode_AB3(f, initialTime, finalTime, nSteps, y0)"
   ]
  },
  {
   "cell_type": "code",
   "execution_count": 4,
   "metadata": {
    "scrolled": false
   },
   "outputs": [
    {
     "name": "stdout",
     "output_type": "stream",
     "text": [
      "       t     Euler  Adams-Bashforth 2  Adams-Bashforth 3\n",
      "0   0.00  1.000000           1.000000           1.000000\n",
      "1   0.05  0.850000           0.850000           0.850000\n",
      "2   0.10  0.732500           0.748750           0.748750\n",
      "3   0.15  0.642625           0.669031           0.665984\n",
      "4   0.20  0.576231           0.609655           0.606139\n",
      "5   0.25  0.529797           0.567660           0.563274\n",
      "6   0.30  0.500327           0.540661           0.535936\n",
      "7   0.35  0.485278           0.526587           0.521626\n",
      "8   0.40  0.482486           0.523654           0.518641\n",
      "9   0.45  0.490113           0.530326           0.525361\n",
      "10  0.50  0.506596           0.545277           0.540446\n"
     ]
    },
    {
     "data": {
      "image/png": "[encoded data removed]",
      "text/plain": [
       "<Figure size 640x480 with 1 Axes>"
      ]
     },
     "metadata": {},
     "output_type": "display_data"
    }
   ],
   "source": [
    "# Create and display a table for the results\n",
    "results_df = pd.DataFrame({\n",
    "    't': t,\n",
    "    'Euler': y_euler.flatten(),\n",
    "    'Adams-Bashforth 2': y_ab2.flatten(),\n",
    "    'Adams-Bashforth 3': y_ab3.flatten()\n",
    "})\n",
    "\n",
    "print(results_df)\n",
    "\n",
    "# Plot the results\n",
    "plt.figure()\n",
    "plt.plot(t, y_euler, label='Forward Euler', marker='o')\n",
    "plt.plot(t_ab2, y_ab2, label='Adams-Bashforth 2', marker='x')\n",
    "plt.plot(t_ab3, y_ab3, label='Adams-Bashforth 3', marker='s')\n",
    "plt.xlabel('t')\n",
    "plt.ylabel('y')\n",
    "plt.title(\"ODE Approximations with Euler and Adams-Bashforth Methods\")\n",
    "plt.legend()\n",
    "plt.grid(True)\n",
    "plt.show()"
   ]
  },
  {
   "cell_type": "code",
   "execution_count": 5,
   "metadata": {},
   "outputs": [
    {
     "name": "stdout",
     "output_type": "stream",
     "text": [
      "Checking for the correct number of arguments:\n",
      " ✔ ode_Euler\n",
      " ✔ ode_AB2\n",
      " ✔ ode_AB3\n",
      "\n",
      "Checking for the correct outputs:\n",
      " ✔ ode_Euler\n",
      " ✔ ode_AB2\n",
      " ✔ ode_AB3\n"
     ]
    }
   ],
   "source": [
    "# Autograder tests\n",
    "function_names = [\"ode_Euler\", \"ode_AB2\", \"ode_AB3\"]\n",
    "\n",
    "print(\"Checking for the correct number of arguments:\")\n",
    "for function_name in function_names:\n",
    "    function_signature = signature(eval(function_name))\n",
    "    assert len(function_signature.parameters) == 5 if function_name != 'ode_Euler' else 3\n",
    "    print(\" ✔ \" + function_name)\n",
    "\n",
    "print(\"\\nChecking for the correct outputs:\")\n",
    "expected_values = [0.506596, 0.545277, 0.540446]\n",
    "for function_name, expected_value in zip(function_names, expected_values):\n",
    "    if function_name == \"ode_Euler\":\n",
    "        obtained_values = eval(function_name)(f, np.linspace(0, 0.5, 11), 1)\n",
    "    else:\n",
    "        obtained_values, _ = eval(function_name)(f, 0, 0.5, 10, 1)\n",
    "    if (np.abs(float(obtained_values[-1]) - expected_value) < 10e-5):\n",
    "        print(\" ✔ \" + function_name)\n",
    "    else:\n",
    "        print(\" ✘ \" + function_name)\n",
    "        assert(np.abs(float(obtained_values[-1]) - expected_value) < 10e-5)"
   ]
  },
  {
   "cell_type": "markdown",
   "metadata": {},
   "source": [
    "## Task 2 (3 marks)\n",
    "\n",
    "Use `SymPy` to solve the differential equation $y' = 4t-3y$, with $y(0)=1$, present the analytical solution. What is the value $y(0.5)$? Also, find the value of $t=t_{m}$ where $y(t)$ achieves a minimum value. What is the value of $y_{m} = y(t_{m})$?\n",
    "\n",
    "Compare the result with the approximations from the three methods in Task 1. You may use a table to show the results of each method at $y(0.5)$ and $y_{m}$. Which method is the most/least accurate? Why?"
   ]
  },
  {
   "cell_type": "code",
   "execution_count": 6,
   "metadata": {},
   "outputs": [],
   "source": [
    "# Standard setup\n",
    "import sympy as sm\n",
    "sm.init_printing()\n",
    "from IPython.display import display_latex\n",
    "import sympy.plotting as sym_plot"
   ]
  },
  {
   "cell_type": "code",
   "execution_count": 7,
   "metadata": {},
   "outputs": [
    {
     "name": "stdout",
     "output_type": "stream",
     "text": [
      "The equation:\n"
     ]
    },
    {
     "data": {
      "text/latex": [
       "$\\displaystyle \\frac{d}{d t} y{\\left(t \\right)} = 4 t - 3 y{\\left(t \\right)}$"
      ]
     },
     "metadata": {},
     "output_type": "display_data"
    },
    {
     "name": "stdout",
     "output_type": "stream",
     "text": [
      "With initial condition y(0)=1:\n"
     ]
    },
    {
     "data": {
      "text/latex": [
       "$\\displaystyle y{\\left(t \\right)} = \\frac{4 t}{3} - \\frac{4}{9} + \\frac{13 e^{- 3 t}}{9}$"
      ]
     },
     "metadata": {},
     "output_type": "display_data"
    },
    {
     "name": "stdout",
     "output_type": "stream",
     "text": [
      "\n",
      "y(0.5) = 0.544521342436621\n"
     ]
    }
   ],
   "source": [
    "# Define the variables and the differential equation\n",
    "t = sm.symbols('t')\n",
    "y = sm.Function('y')\n",
    "eq = sm.Eq(y(t).diff(t), 4 * t - 3 * y(t))\n",
    "print(\"The equation:\")\n",
    "display_latex(eq)\n",
    "\n",
    "# Solve the equation with initial condition y(0) = 1\n",
    "eq_sol = sm.dsolve(eq, y(t), ics={y(0): 1})\n",
    "print(\"With initial condition y(0)=1:\")\n",
    "display_latex(sm.simplify(eq_sol))\n",
    "\n",
    "# Evaluate the solution at t = 0.5\n",
    "y_at_05 = eq_sol.rhs.subs(t, 0.5)\n",
    "print(f\"\\ny(0.5) = {y_at_05}\")"
   ]
  },
  {
   "cell_type": "markdown",
   "metadata": {},
   "source": [
    "### We'll find the value of $t=t_m$ where $y(t)$ achieves a minimum value by the following steps:\n",
    "\n",
    "i. **First Derivative:** We take the first derivative of $y(t)$ to find the critical points.\n",
    "\n",
    "ii. **Solve for Critical Points:** We solve $y'(t)=0$ to find the critical points where the solution could have a minimum or maximum.\n",
    "\n",
    "iii. **Second Derivative Test:** We take the second derivative of $y(t)$ to confirm if the critical points correspond to a minimum (where $y''(t)>0$).\n",
    "\n",
    "iv. **Evaluate at Minimum:** Finally, we evaluate $y(t)$ at the critical points that correspond to a minimum.\n",
    "\n",
    "\n",
    "> It seems that the minimum value contains an imaginary component because the symbolic solver is returning a complex number as one of the critical points. So, we'll focus on ***real*** values only by filtering out any complex numbers and restricting our search to real solutions."
   ]
  },
  {
   "cell_type": "code",
   "execution_count": 8,
   "metadata": {},
   "outputs": [
    {
     "name": "stdout",
     "output_type": "stream",
     "text": [
      "\n",
      "The first derivative (y'(t)):\n"
     ]
    },
    {
     "data": {
      "text/latex": [
       "$\\displaystyle \\frac{4}{3} - \\frac{13 e^{- 3 t}}{3}$"
      ]
     },
     "metadata": {},
     "output_type": "display_data"
    },
    {
     "name": "stdout",
     "output_type": "stream",
     "text": [
      "\n",
      "The second derivative (y''(t)):\n"
     ]
    },
    {
     "data": {
      "text/latex": [
       "$\\displaystyle 13 e^{- 3 t}$"
      ]
     },
     "metadata": {},
     "output_type": "display_data"
    },
    {
     "name": "stdout",
     "output_type": "stream",
     "text": [
      "\n",
      "Minimum value of y(t): 0.523846665040732 at t = 0.392884998780549\n"
     ]
    }
   ],
   "source": [
    "# First derivative of the solution\n",
    "y_prime = sm.diff(eq_sol.rhs, t)\n",
    "print(\"\\nThe first derivative (y'(t)):\")\n",
    "display_latex(y_prime)\n",
    "\n",
    "# Solve for critical points where y'(t) = 0\n",
    "critical_points = sm.solve(y_prime, t)\n",
    "\n",
    "# Second derivative of the solution\n",
    "y_double_prime = sm.diff(y_prime, t)\n",
    "print(\"\\nThe second derivative (y''(t)):\")\n",
    "display_latex(y_double_prime)\n",
    "\n",
    "# Filter out complex critical points by checking if the result is real\n",
    "real_critical_points = [crit_point for crit_point in critical_points if crit_point.is_real]\n",
    "\n",
    "# Check which critical points correspond to a minimum using the second derivative test\n",
    "min_critical_points = []\n",
    "for crit_point in real_critical_points:\n",
    "    if y_double_prime.subs(t, crit_point) > 0:\n",
    "        min_critical_points.append(crit_point)\n",
    "\n",
    "# If there are minimum points, evaluate y(t) at these points\n",
    "if min_critical_points:\n",
    "    t_min = min_critical_points[0]\n",
    "    y_min = eq_sol.rhs.subs(t, t_min)\n",
    "    print(f\"\\nMinimum value of y(t): {y_min.evalf()} at t = {t_min.evalf()}\")\n",
    "else:\n",
    "    print(\"No minimum found in the real domain.\")"
   ]
  },
  {
   "cell_type": "code",
   "execution_count": 9,
   "metadata": {},
   "outputs": [
    {
     "name": "stdout",
     "output_type": "stream",
     "text": [
      "\n",
      "Comparison of y(0.5) and y_min across methods:\n",
      "              Method    y(0.5)     y_min\n",
      "0         Analytical  0.544521  0.523847\n",
      "1              Euler  0.506596  0.482486\n",
      "2  Adams-Bashforth 2  0.545277  0.523654\n",
      "3  Adams-Bashforth 3  0.540446  0.518641\n",
      "\n",
      "Comparison with Errors:\n",
      "              Method    y(0.5)     y_min  y(0.5) Error  y_min Error\n",
      "0         Analytical  0.544521  0.523847      0.000000     0.000000\n",
      "1              Euler  0.506596  0.482486      0.037925     0.041360\n",
      "2  Adams-Bashforth 2  0.545277  0.523654      0.000755     0.000192\n",
      "3  Adams-Bashforth 3  0.540446  0.518641      0.004075     0.005206\n",
      "\n",
      "Most accurate for y(0.5): Adams-Bashforth 2\n",
      "Least accurate for y(0.5): Euler\n",
      "Most accurate for y_min: Adams-Bashforth 2\n",
      "Least accurate for y_min: Euler\n"
     ]
    }
   ],
   "source": [
    "# Compare the result with the approximations from the three methods in Task 1\n",
    "\n",
    "# Numerical solutions for y(0.5)\n",
    "y_euler_at_05 = y_euler[-1].item()\n",
    "y_ab2_at_05 = y_ab2[-1].item()\n",
    "y_ab3_at_05 = y_ab3[-1].item()\n",
    "\n",
    "# Analytical solution for y(0.5) and y_min\n",
    "y_analytical_at_05 = y_at_05.evalf()\n",
    "y_analytical_min = y_min.evalf()\n",
    "\n",
    "# Add numerical approximations of y_min from the methods\n",
    "# Since the numerical methods do not directly provide y_min, we approximate it by taking the minimum value of the arrays.\n",
    "y_euler_min = float(min(y_euler.flatten()))\n",
    "y_ab2_min = float(min(y_ab2.flatten()))\n",
    "y_ab3_min = float(min(y_ab3.flatten()))\n",
    "\n",
    "# Create a table for comparison\n",
    "comparison_df = pd.DataFrame({\n",
    "    'Method': ['Analytical', 'Euler', 'Adams-Bashforth 2', 'Adams-Bashforth 3'],\n",
    "    'y(0.5)': [float(y_analytical_at_05), float(y_euler_at_05), float(y_ab2_at_05), float(y_ab3_at_05)],\n",
    "    'y_min': [float(y_analytical_min), y_euler_min, y_ab2_min, y_ab3_min]\n",
    "})\n",
    "\n",
    "# Display the table\n",
    "print(\"\\nComparison of y(0.5) and y_min across methods:\")\n",
    "print(comparison_df)\n",
    "\n",
    "# Calculate the absolute errors for y(0.5) and y_min\n",
    "comparison_df['y(0.5) Error'] = [0] + list(abs(comparison_df['y(0.5)'][1:] - float(y_analytical_at_05)))\n",
    "comparison_df['y_min Error'] = [0] + list(abs(comparison_df['y_min'][1:] - float(y_analytical_min)))\n",
    "\n",
    "# Display the comparison with errors\n",
    "print(\"\\nComparison with Errors:\")\n",
    "print(comparison_df)\n",
    "comparison_df_no_analytical = comparison_df.drop(index=0)\n",
    "\n",
    "# Conclusion on accuracy\n",
    "most_accurate_y05 = comparison_df_no_analytical.loc[comparison_df_no_analytical['y(0.5) Error'].idxmin(), 'Method']\n",
    "least_accurate_y05 = comparison_df_no_analytical.loc[comparison_df_no_analytical['y(0.5) Error'].idxmax(), 'Method']\n",
    "most_accurate_ymin = comparison_df_no_analytical.loc[comparison_df_no_analytical['y_min Error'].idxmin(), 'Method']\n",
    "least_accurate_ymin = comparison_df_no_analytical.loc[comparison_df_no_analytical['y_min Error'].idxmax(), 'Method']\n",
    "\n",
    "print(f\"\\nMost accurate for y(0.5): {most_accurate_y05}\")\n",
    "print(f\"Least accurate for y(0.5): {least_accurate_y05}\")\n",
    "print(f\"Most accurate for y_min: {most_accurate_ymin}\")\n",
    "print(f\"Least accurate for y_min: {least_accurate_ymin}\")"
   ]
  },
  {
   "cell_type": "markdown",
   "metadata": {},
   "source": [
    "**Adams-Bashforth 2 shows the most accurate result, while Euler's Method shows the least accurate.** This may be because Adams-Bashforth 2 strikes a better balance between accuracy and stability. Euler's method, being a first-order method, makes a relatively crude approximation of the solution at each step, which can easily lead to a larger cumulative error over the integration interval.\n",
    "\n",
    "Adams-Bashforth 3, as a third-order method, theoretically should be more accurate than Adams-Bashforth 2. However, with the step size $h = 0.05$, it might not be small enough for Adams-Bashforth 3 to outperform Adams-Bashforth 2. Since Adams-Bashforth 3 uses data from three previous points in my code, it may result in overcorrection.\n",
    "\n",
    "In conclusion, Adams-Bashforth 2 strikes the best balance due to its higher-order approximation without the potential overcorrections that Adams-Bashforth 3 might introduce at the chosen step size. Euler's Method, with its simpler approach, accumulates more error and is the least accurate."
   ]
  },
  {
   "cell_type": "code",
   "execution_count": null,
   "metadata": {},
   "outputs": [],
   "source": []
  }
 ],
 "metadata": {
  "kernelspec": {
   "display_name": "Python 3 (ipykernel)",
   "language": "python",
   "name": "python3"
  },
  "language_info": {
   "codemirror_mode": {
    "name": "ipython",
    "version": 3
   },
   "file_extension": ".py",
   "mimetype": "text/x-python",
   "name": "python",
   "nbconvert_exporter": "python",
   "pygments_lexer": "ipython3",
   "version": "3.9.13"
  }
 },
 "nbformat": 4,
 "nbformat_minor": 4
}
